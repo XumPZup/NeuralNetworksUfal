{
 "cells": [
  {
   "cell_type": "markdown",
   "id": "87daff62",
   "metadata": {},
   "source": [
    "### NUMPY RANDOM\n",
    "- Create a Numpy array with random values"
   ]
  },
  {
   "cell_type": "code",
   "execution_count": 1,
   "id": "378a503c",
   "metadata": {},
   "outputs": [],
   "source": [
    "import numpy as np\n",
    "np.random.seed(101)"
   ]
  },
  {
   "cell_type": "code",
   "execution_count": 2,
   "id": "992a0654",
   "metadata": {},
   "outputs": [
    {
     "name": "stdout",
     "output_type": "stream",
     "text": [
      "Random array:\n",
      "[0.51639863 0.57066759 0.02847423 0.17152166 0.68527698]\n"
     ]
    }
   ],
   "source": [
    "arr = np.random.rand(5)\n",
    "print('Random array:\\n%s'%arr)"
   ]
  },
  {
   "cell_type": "markdown",
   "id": "ecbf1f7e",
   "metadata": {},
   "source": [
    "- Choose elements from the list with different probability using NumPy"
   ]
  },
  {
   "cell_type": "code",
   "execution_count": 3,
   "id": "2efae3e4",
   "metadata": {},
   "outputs": [
    {
     "name": "stdout",
     "output_type": "stream",
     "text": [
      "List: [1, 2, 3, 4, 5]\n",
      "Probablilty for every element in List: [0.1, 0.2, 0.2, 0.4, 0.1]\n",
      "Five random choices using the given probability [4 3 4 4 2]\n"
     ]
    }
   ],
   "source": [
    "list_ = [1, 2, 3, 4, 5]\n",
    "prob = [.1, .2, .2, .4, .1] # Defines probability for every number in the array of choice\n",
    "\n",
    "choiches = np.random.choice(list_, 5, p=prob)\n",
    "\n",
    "print('List: %s'%list_)\n",
    "print('Probablilty for every element in List: %s'%prob)\n",
    "print('Five random choices using the given probability %s'%choiches)"
   ]
  },
  {
   "cell_type": "markdown",
   "id": "15afcdb3",
   "metadata": {},
   "source": [
    "-  Getting weighted random choice in Python"
   ]
  },
  {
   "cell_type": "code",
   "execution_count": 4,
   "id": "6f2fc71a",
   "metadata": {},
   "outputs": [],
   "source": [
    "from random import choices, seed\n",
    "seed(101)"
   ]
  },
  {
   "cell_type": "code",
   "execution_count": 5,
   "id": "334aa372",
   "metadata": {},
   "outputs": [
    {
     "name": "stdout",
     "output_type": "stream",
     "text": [
      "List: [1, 2, 3, 4, 5]\n",
      "Weight for every element in List: [50, 25, 60, 40, 10]\n",
      "Five random choices using the given weights [3, 1, 5, 4, 3]\n"
     ]
    }
   ],
   "source": [
    "weights = [50, 25, 60, 40, 10]\n",
    "choices_ = choices(list_, weights=weights, k=5)\n",
    "\n",
    "print('List: %s'%list_)\n",
    "print('Weight for every element in List: %s'%weights)\n",
    "print('Five random choices using the given weights %s'%choices_)"
   ]
  },
  {
   "cell_type": "markdown",
   "id": "28fe97da",
   "metadata": {},
   "source": [
    "- Generate Random Numbers From The Uniform Distribution using NumPy"
   ]
  },
  {
   "cell_type": "code",
   "execution_count": 6,
   "id": "6d1a2ce6",
   "metadata": {},
   "outputs": [
    {
     "name": "stdout",
     "output_type": "stream",
     "text": [
      "Array of random values from a uniform distribution ranging from 0 to 5:\n",
      "[2.77113796 1.76065977 0.90946201 3.92800881 4.82741611 1.16176831]\n"
     ]
    }
   ],
   "source": [
    "low, high = (0, 5)\n",
    "uniform = np.random.uniform(low, high, 6)\n",
    "\n",
    "print('Array of random values from a uniform distribution ranging from %s to %s:\\n%s'%(low, high, uniform))"
   ]
  },
  {
   "cell_type": "markdown",
   "id": "dff19b19",
   "metadata": {},
   "source": [
    "- Getting Random Elements form geometric distribution"
   ]
  },
  {
   "cell_type": "code",
   "execution_count": 7,
   "id": "00916f68",
   "metadata": {},
   "outputs": [
    {
     "name": "stdout",
     "output_type": "stream",
     "text": [
      "Array of random elements from a geometric distribution:\n",
      "[ 1  7 10  3  9  6  1  2  2 38]\n"
     ]
    }
   ],
   "source": [
    "geom = np.random.geometric(p=.13, size=10)\n",
    "\n",
    "print('Array of random elements from a geometric distribution:\\n%s'%geom)"
   ]
  },
  {
   "cell_type": "markdown",
   "id": "9d5119e1",
   "metadata": {},
   "source": [
    "- Get Random elements from Laplace distribution"
   ]
  },
  {
   "cell_type": "code",
   "execution_count": 8,
   "id": "16127833",
   "metadata": {},
   "outputs": [
    {
     "name": "stdout",
     "output_type": "stream",
     "text": [
      "Ten random element from Laplace distribution with peak at 2:\n",
      "[2.0422092  2.17147547 2.63419571 2.08765545 3.75046657 2.95669693\n",
      " 1.78432308 1.6637559  4.36184084 1.62496199]\n"
     ]
    }
   ],
   "source": [
    "peak = 2\n",
    "laplace = np.random.laplace(loc=peak, size=10)\n",
    "\n",
    "print('Ten random element from Laplace distribution with peak at %s:\\n%s'%(peak, laplace))"
   ]
  },
  {
   "cell_type": "markdown",
   "id": "c31763e4",
   "metadata": {},
   "source": [
    "- Return a Matrix of random values from a uniform distribution"
   ]
  },
  {
   "cell_type": "code",
   "execution_count": 9,
   "id": "7ade668e",
   "metadata": {},
   "outputs": [
    {
     "name": "stdout",
     "output_type": "stream",
     "text": [
      "Matrix of random values from a uniform distribution ranging from 5 to 20:\n",
      "[[17.97649724 17.45416568 13.07242174 18.83704059]\n",
      " [ 6.4571972   6.5427124  15.52260944 18.35719804]\n",
      " [ 7.39340451  9.13358817 15.08737294  7.46454686]\n",
      " [15.52056705 12.31452833 15.21016652 12.82322288]]\n"
     ]
    }
   ],
   "source": [
    "low, high = (5, 20)\n",
    "uniform = np.random.uniform(low, high, (4,4))\n",
    "\n",
    "print('Matrix of random values from a uniform distribution ranging from %s to %s:\\n%s'%(low, high, uniform))"
   ]
  },
  {
   "cell_type": "markdown",
   "id": "7af736b1",
   "metadata": {},
   "source": [
    "- Return a Matrix of random values from a Gaussian distribution"
   ]
  },
  {
   "cell_type": "code",
   "execution_count": 10,
   "id": "af815541",
   "metadata": {},
   "outputs": [
    {
     "name": "stdout",
     "output_type": "stream",
     "text": [
      "Matrix of random values from a Gaussian distribution with mean at 5:\n",
      "[[4.0067365  5.1967995 ]\n",
      " [3.86335541 5.00036648]\n",
      " [6.02598415 4.8434021 ]\n",
      " [4.96842086 5.64982583]\n",
      " [7.15484644 4.38974114]]\n"
     ]
    }
   ],
   "source": [
    "center = 5\n",
    "gaussian = np.random.normal(loc=center, size=(5, 2))\n",
    "\n",
    "print('Matrix of random values from a Gaussian distribution with mean at %s:\\n%s'%(center, gaussian))"
   ]
  }
 ],
 "metadata": {
  "kernelspec": {
   "display_name": "Python 3 (ipykernel)",
   "language": "python",
   "name": "python3"
  },
  "language_info": {
   "codemirror_mode": {
    "name": "ipython",
    "version": 3
   },
   "file_extension": ".py",
   "mimetype": "text/x-python",
   "name": "python",
   "nbconvert_exporter": "python",
   "pygments_lexer": "ipython3",
   "version": "3.9.11"
  }
 },
 "nbformat": 4,
 "nbformat_minor": 5
}
