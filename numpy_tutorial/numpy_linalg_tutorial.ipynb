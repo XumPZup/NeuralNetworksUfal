{
 "cells": [
  {
   "cell_type": "markdown",
   "id": "1416b44f",
   "metadata": {},
   "source": [
    "### NUMPY LINEAR ALGEBRA TUTORIAL\n",
    "- Find a matrix or vector norm using NumPy"
   ]
  },
  {
   "cell_type": "code",
   "execution_count": 1,
   "id": "0ebb176c",
   "metadata": {},
   "outputs": [],
   "source": [
    "import numpy as np\n",
    "np.random.seed(101)"
   ]
  },
  {
   "cell_type": "code",
   "execution_count": 2,
   "id": "d68aa4ef",
   "metadata": {},
   "outputs": [
    {
     "name": "stdout",
     "output_type": "stream",
     "text": [
      "The norm of\n",
      "[[2 4 6]\n",
      " [6 9 1]]\n",
      "\n",
      " is 13.19090595827292\n"
     ]
    }
   ],
   "source": [
    "vect = np.array([[2, 4, 6], \n",
    "                 [6, 9, 1]])\n",
    "\n",
    "norm = np.linalg.norm(vect)\n",
    "\n",
    "print('The norm of\\n%s\\n\\n is %s'%(vect, norm))"
   ]
  },
  {
   "cell_type": "markdown",
   "id": "34734b9e",
   "metadata": {},
   "source": [
    "- Calculate the QR decomposition of a given matrix using NumPy"
   ]
  },
  {
   "cell_type": "code",
   "execution_count": 3,
   "id": "3fb0839a",
   "metadata": {},
   "outputs": [
    {
     "name": "stdout",
     "output_type": "stream",
     "text": [
      "Matrix:\n",
      "[[4 4 2]\n",
      " [3 4 4]\n",
      " [2 4 4]]\n",
      "\n",
      "QR decomposition:\n",
      "Q =\n",
      "[[-0.74278135  0.53066863  0.40824829]\n",
      " [-0.55708601 -0.15161961 -0.81649658]\n",
      " [-0.37139068 -0.83390785  0.40824829]]\n",
      "R =\n",
      "[[-5.38516481 -6.68503217 -5.19946947]\n",
      " [ 0.         -1.8194353  -2.88077257]\n",
      " [ 0.          0.         -0.81649658]]\n"
     ]
    }
   ],
   "source": [
    "arr = np.random.randint(1, 5, (3, 3))\n",
    "\n",
    "q, r = np.linalg.qr(arr)\n",
    "\n",
    "print('Matrix:\\n%s\\n'%arr)\n",
    "print('QR decomposition:\\nQ =\\n%s\\nR =\\n%s'%(q, r))"
   ]
  },
  {
   "cell_type": "markdown",
   "id": "9a68e709",
   "metadata": {},
   "source": [
    "- Compute the condition number of a given matrix using NumPy"
   ]
  },
  {
   "cell_type": "code",
   "execution_count": 4,
   "id": "67a3e654",
   "metadata": {},
   "outputs": [
    {
     "name": "stdout",
     "output_type": "stream",
     "text": [
      "Matrix:\n",
      "[[2 2 1]\n",
      " [1 4 1]\n",
      " [2 1 1]]\n",
      "\n",
      "The condition number of the matrix is 55.50924626227031\n"
     ]
    }
   ],
   "source": [
    "arr = np.random.randint(1, 5, (3, 3))\n",
    "\n",
    "cond_number = np.linalg.cond(arr)\n",
    "\n",
    "print('Matrix:\\n%s\\n'%arr)\n",
    "print('The condition number of the matrix is %s'%cond_number)"
   ]
  },
  {
   "cell_type": "markdown",
   "id": "67825532",
   "metadata": {},
   "source": [
    "- Compute the eigenvalues and right eigenvectors of a given square array using NumPy"
   ]
  },
  {
   "cell_type": "code",
   "execution_count": 5,
   "id": "6828866f",
   "metadata": {},
   "outputs": [
    {
     "name": "stdout",
     "output_type": "stream",
     "text": [
      "Matrix:\n",
      "[[1 3 2]\n",
      " [1 2 1]\n",
      " [2 4 4]]\n",
      "\n",
      "Eigenvalues of the matrix:\n",
      "[ 6.4902922  -0.35596772  0.86567551]\n",
      "\n",
      "Eigenvectors of the matrix:\n",
      "[[-0.46337212 -0.93070544 -0.21003498]\n",
      " [-0.28970144  0.35013257 -0.53579896]\n",
      " [-0.837472    0.10580441  0.81780486]]\n",
      "\n"
     ]
    }
   ],
   "source": [
    "arr = np.random.randint(1, 5, (3, 3))\n",
    "\n",
    "vals, vect = np.linalg.eig(arr)\n",
    "\n",
    "print('Matrix:\\n%s\\n'%arr)\n",
    "print('Eigenvalues of the matrix:\\n%s\\n'%vals)\n",
    "print('Eigenvectors of the matrix:\\n%s\\n'%vect)"
   ]
  },
  {
   "cell_type": "markdown",
   "id": "184f2d1f",
   "metadata": {},
   "source": [
    "- Calculate the Euclidean distance using NumPy"
   ]
  },
  {
   "cell_type": "code",
   "execution_count": 6,
   "id": "2abef680",
   "metadata": {},
   "outputs": [
    {
     "name": "stdout",
     "output_type": "stream",
     "text": [
      "V = [3 1 4]\n",
      "W = [2 4 4]\n",
      "\n",
      "The distance between V and W is 3.1622776601683795\n"
     ]
    }
   ],
   "source": [
    "vect1 = np.random.randint(1, 5, 3)\n",
    "vect2 = np.random.randint(1, 5, 3)\n",
    "\n",
    "distance = np.linalg.norm(vect1-vect2)\n",
    "\n",
    "print('V = %s\\nW = %s\\n'%(vect1, vect2))\n",
    "print('The distance between V and W is %s'%distance)"
   ]
  }
 ],
 "metadata": {
  "kernelspec": {
   "display_name": "Python 3 (ipykernel)",
   "language": "python",
   "name": "python3"
  },
  "language_info": {
   "codemirror_mode": {
    "name": "ipython",
    "version": 3
   },
   "file_extension": ".py",
   "mimetype": "text/x-python",
   "name": "python",
   "nbconvert_exporter": "python",
   "pygments_lexer": "ipython3",
   "version": "3.9.11"
  }
 },
 "nbformat": 4,
 "nbformat_minor": 5
}
