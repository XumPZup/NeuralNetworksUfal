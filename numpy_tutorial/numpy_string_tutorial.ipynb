{
 "cells": [
  {
   "cell_type": "markdown",
   "id": "3ebea90a",
   "metadata": {},
   "source": [
    "### NUMPY STRINGS\n",
    "- Repeat all the elements of a NumPy array of strings"
   ]
  },
  {
   "cell_type": "code",
   "execution_count": 1,
   "id": "62940c12",
   "metadata": {},
   "outputs": [],
   "source": [
    "import numpy as np"
   ]
  },
  {
   "cell_type": "code",
   "execution_count": 2,
   "id": "6c976a80",
   "metadata": {},
   "outputs": [
    {
     "name": "stdout",
     "output_type": "stream",
     "text": [
      "Original array\n",
      "['Hello' 'World' '!']\n",
      "\n",
      "Array with words repeated twice\n",
      "['HelloHello' 'WorldWorld' '!!']\n"
     ]
    }
   ],
   "source": [
    "str_arr = np.array(['Hello', 'World', '!'])\n",
    "\n",
    "repeated = np.char.multiply(str_arr, 2)\n",
    "\n",
    "print('Original array\\n%s\\n'%str_arr)\n",
    "print('Array with words repeated twice\\n%s'%repeated)"
   ]
  },
  {
   "cell_type": "markdown",
   "id": "c184d6c1",
   "metadata": {},
   "source": [
    "- Split the element of a given NumPy array with spaces"
   ]
  },
  {
   "cell_type": "code",
   "execution_count": 3,
   "id": "d49f4b1e",
   "metadata": {},
   "outputs": [
    {
     "name": "stdout",
     "output_type": "stream",
     "text": [
      "Original array\n",
      "['This is a string']\n",
      "\n",
      "Array splitted on spaces\n",
      "[list(['This', 'is', 'a', 'string'])]\n"
     ]
    }
   ],
   "source": [
    "str_arr = np.array(['This is a string'])\n",
    "\n",
    "splitted = np.char.split(str_arr)\n",
    "\n",
    "print('Original array\\n%s\\n'%str_arr)\n",
    "print('Array splitted on spaces\\n%s'%splitted)"
   ]
  },
  {
   "cell_type": "markdown",
   "id": "d1d5439b",
   "metadata": {},
   "source": [
    "- Insert a space between characters of all the elements of a given NumPy array"
   ]
  },
  {
   "cell_type": "code",
   "execution_count": 4,
   "id": "6500a72b",
   "metadata": {},
   "outputs": [
    {
     "name": "stdout",
     "output_type": "stream",
     "text": [
      "Original array\n",
      "['Hello' 'World' '!']\n",
      "\n",
      "Array with space between all letters\n",
      "['H e l l o' 'W o r l d' '!']\n"
     ]
    }
   ],
   "source": [
    "str_arr = np.array(['Hello', 'World', '!'])\n",
    "\n",
    "spaced = np.char.join(' ', str_arr)\n",
    "\n",
    "print('Original array\\n%s\\n'%str_arr)\n",
    "print('Array with space between all letters\\n%s'%spaced)"
   ]
  },
  {
   "cell_type": "markdown",
   "id": "c4901877",
   "metadata": {},
   "source": [
    "- Find the length of each string element in the Numpy array"
   ]
  },
  {
   "cell_type": "code",
   "execution_count": 5,
   "id": "91e38821",
   "metadata": {},
   "outputs": [
    {
     "name": "stdout",
     "output_type": "stream",
     "text": [
      "The lengths of the strings in the array\n",
      "['Hello' 'World' '!']\n",
      " are [5 5 1]\n"
     ]
    }
   ],
   "source": [
    "# Makes the builtins work with nested sequence of objects or NumPy arrays\n",
    "superior_len = np.vectorize(len)\n",
    "lengths = superior_len(str_arr)\n",
    "\n",
    "print('The lengths of the strings in the array\\n%s\\n are %s'%(str_arr, lengths))"
   ]
  },
  {
   "cell_type": "markdown",
   "id": "269db7b9",
   "metadata": {},
   "source": [
    "- Swap the case of an array of string"
   ]
  },
  {
   "cell_type": "code",
   "execution_count": 6,
   "id": "fc519022",
   "metadata": {},
   "outputs": [
    {
     "name": "stdout",
     "output_type": "stream",
     "text": [
      "Original array\n",
      "['Hello' 'World' '!']\n",
      "\n",
      "Array with case swapped\n",
      "['hELLO' 'wORLD' '!']\n"
     ]
    }
   ],
   "source": [
    "swapped = np.char.swapcase(str_arr)\n",
    "\n",
    "print('Original array\\n%s\\n'%str_arr)\n",
    "print('Array with case swapped\\n%s'%swapped)"
   ]
  },
  {
   "cell_type": "markdown",
   "id": "0a5dace8",
   "metadata": {},
   "source": [
    "- Change the case to uppercase of elements of an array"
   ]
  },
  {
   "cell_type": "code",
   "execution_count": 7,
   "id": "cec65dd2",
   "metadata": {},
   "outputs": [
    {
     "name": "stdout",
     "output_type": "stream",
     "text": [
      "Original array\n",
      "['Hello' 'World' '!']\n",
      "\n",
      "Array with upper case \n",
      "['HELLO' 'WORLD' '!']\n"
     ]
    }
   ],
   "source": [
    "up = np.char.upper(str_arr)\n",
    "\n",
    "print('Original array\\n%s\\n'%str_arr)\n",
    "print('Array with upper case \\n%s'%up)"
   ]
  },
  {
   "cell_type": "markdown",
   "id": "115bb959",
   "metadata": {},
   "source": [
    "- Change the case to lowercase of elements of an array"
   ]
  },
  {
   "cell_type": "code",
   "execution_count": 8,
   "id": "cb60d666",
   "metadata": {},
   "outputs": [
    {
     "name": "stdout",
     "output_type": "stream",
     "text": [
      "Original array\n",
      "['Hello' 'World' '!']\n",
      "\n",
      "Array with lower case\n",
      "['hello' 'world' '!']\n"
     ]
    }
   ],
   "source": [
    "low = np.char.lower(str_arr)\n",
    "\n",
    "print('Original array\\n%s\\n'%str_arr)\n",
    "print('Array with lower case\\n%s'%low)"
   ]
  },
  {
   "cell_type": "markdown",
   "id": "0ea9835b",
   "metadata": {},
   "source": [
    "- Join String by a seperator"
   ]
  },
  {
   "cell_type": "code",
   "execution_count": 9,
   "id": "cd7f8fa9",
   "metadata": {},
   "outputs": [
    {
     "name": "stdout",
     "output_type": "stream",
     "text": [
      "Original array\n",
      "['Hello' 'World' '!']\n",
      "\n",
      "Joined string:\n",
      " Hello World !\n"
     ]
    }
   ],
   "source": [
    "joined_str = ' '.join(i for i in str_arr)\n",
    "\n",
    "print('Original array\\n%s\\n'%str_arr)\n",
    "print('Joined string:\\n %s'%joined_str)"
   ]
  },
  {
   "cell_type": "markdown",
   "id": "9bd17247",
   "metadata": {},
   "source": [
    "- Check if two same shaped string arrayss one by one"
   ]
  },
  {
   "cell_type": "code",
   "execution_count": 10,
   "id": "5e488688",
   "metadata": {},
   "outputs": [
    {
     "name": "stdout",
     "output_type": "stream",
     "text": [
      "Array1 = ['Hello' 'World' '!']\n",
      "\n",
      "Array2 = ['Ciao' 'World' '!']\n",
      "\n",
      "Array2 differs from Array1 of 1 elements \n",
      "['Ciao']\n"
     ]
    }
   ],
   "source": [
    "str_arr2 = np.array(['Ciao', 'World', '!'])\n",
    "\n",
    "equals = np.char.equal(str_arr, str_arr2)\n",
    "diff_q = np.count_nonzero(~equals)\n",
    "\n",
    "\n",
    "print('Array1 = %s\\n\\nArray2 = %s\\n'%(str_arr, str_arr2))\n",
    "print('Array2 differs from Array1 of %s elements \\n%s'%(diff_q, str_arr2[~equals]))"
   ]
  },
  {
   "cell_type": "markdown",
   "id": "919cfa11",
   "metadata": {},
   "source": [
    "- Count the number of substrings in an array"
   ]
  },
  {
   "cell_type": "code",
   "execution_count": 11,
   "id": "fb4236d9",
   "metadata": {},
   "outputs": [
    {
     "name": "stdout",
     "output_type": "stream",
     "text": [
      "The substring \"super\" appears in the array\n",
      "['supersupersuper' 'super' 'supersuper']\n",
      "this much times\n",
      "[3 1 2]\n"
     ]
    }
   ],
   "source": [
    "str_arr = np.array(['supersupersuper', 'super', 'supersuper'])\n",
    "\n",
    "sub_count = np.char.count(str_arr, sub='super')\n",
    "print('The substring \"super\" appears in the array\\n%s\\nthis much times\\n%s'%(str_arr, sub_count))"
   ]
  },
  {
   "cell_type": "markdown",
   "id": "455c2b55",
   "metadata": {},
   "source": [
    "- Find the lowest index of the substring in an array"
   ]
  },
  {
   "cell_type": "code",
   "execution_count": 12,
   "id": "9df691aa",
   "metadata": {},
   "outputs": [
    {
     "name": "stdout",
     "output_type": "stream",
     "text": [
      "Array: ['supersupersuper' 'super' 'supersuper']\n",
      "The substring \"super\" appears the less at index 1\n"
     ]
    }
   ],
   "source": [
    "lowest_idx = np.argmin(sub_count)\n",
    "\n",
    "print('Array: %s'%str_arr)\n",
    "print('The substring \"super\" appears the less at index %s'%lowest_idx)"
   ]
  },
  {
   "cell_type": "markdown",
   "id": "eaf61aee",
   "metadata": {},
   "source": [
    "- Get the boolean array when values end with a particular character"
   ]
  },
  {
   "cell_type": "code",
   "execution_count": 13,
   "id": "aa919f62",
   "metadata": {},
   "outputs": [
    {
     "name": "stdout",
     "output_type": "stream",
     "text": [
      "String array: ['Hello' 'World' '!']\n",
      "Boolean array of ends with \"o\"\n",
      "[ True False False]\n"
     ]
    }
   ],
   "source": [
    "ch = 'o'\n",
    "str_arr = np.array(['Hello', 'World', '!'])\n",
    "\n",
    "ends_with = np.char.endswith(str_arr, ch)\n",
    "\n",
    "print('String array: %s'%str_arr)\n",
    "print('Boolean array of ends with \"%s\"\\n%s'%(ch, ends_with))"
   ]
  },
  {
   "cell_type": "markdown",
   "id": "0df331cd",
   "metadata": {},
   "source": [
    "### More Questions on NumPy\n",
    "- Different ways to convert a Python dictionary to a NumPy array"
   ]
  },
  {
   "cell_type": "code",
   "execution_count": 14,
   "id": "e615f624",
   "metadata": {},
   "outputs": [
    {
     "name": "stdout",
     "output_type": "stream",
     "text": [
      "From this: {0: 2, 1: 1, 2: -1, 3: -5, 4: -6}\n",
      "\n",
      "To this:\n",
      "[[ 0  2]\n",
      " [ 1  1]\n",
      " [ 2 -1]\n",
      " [ 3 -5]\n",
      " [ 4 -6]]\n"
     ]
    }
   ],
   "source": [
    "d = {0:2, 1:1, 2:-1, 3:-5, 4:-6}\n",
    "\n",
    "arr = np.array(list(d.items()))\n",
    "\n",
    "print('From this: %s\\n'%d)\n",
    "print('To this:\\n%s'%arr)"
   ]
  },
  {
   "cell_type": "code",
   "execution_count": 15,
   "id": "a17edc39",
   "metadata": {},
   "outputs": [
    {
     "name": "stdout",
     "output_type": "stream",
     "text": [
      "From this: {0: {'A': 5, 'B': 6}, 1: {'A': 6, 'B': 7}, 2: {'A': 0, 'B': 3}}\n",
      "\n",
      "To this:\n",
      "[[5 6]\n",
      " [6 7]\n",
      " [0 3]]\n"
     ]
    }
   ],
   "source": [
    "d = {0:{'A': 5, 'B': 6}, \n",
    "     1:{'A': 6, 'B': 7},\n",
    "     2:{'A': 0, 'B': 3},}\n",
    "\n",
    "arr = np.array([[v[i] for i in ['A', 'B']] for k, v in d.items()])\n",
    "\n",
    "print('From this: %s\\n'%d)\n",
    "print('To this:\\n%s'%arr)"
   ]
  },
  {
   "cell_type": "markdown",
   "id": "ddf9f0f4",
   "metadata": {},
   "source": [
    "- How to convert a list and tuple into NumPy arrays?"
   ]
  },
  {
   "cell_type": "code",
   "execution_count": 16,
   "id": "793422eb",
   "metadata": {},
   "outputs": [
    {
     "name": "stdout",
     "output_type": "stream",
     "text": [
      "[2, 3, 4, 5] type -> <class 'list'>\n",
      "Converting list\n",
      "[2 3 4 5] type -> <class 'numpy.ndarray'>\n",
      "(2, 4, 6, 3) type -> <class 'tuple'>\n",
      "Converting tuple\n",
      "[2 3 4 5] type -> <class 'type'>\n"
     ]
    }
   ],
   "source": [
    "list_ = [2, 3, 4, 5]\n",
    "tuple_ = (2, 4, 6, 3)\n",
    "\n",
    "print('%s type -> %s'%(list_, type(list_)))\n",
    "\n",
    "list_ = np.array(list_)\n",
    "\n",
    "print('Converting list')\n",
    "print('%s type -> %s'%(list_, type(list_)))\n",
    "\n",
    "print('%s type -> %s'%(tuple_, type(tuple_)))\n",
    "\n",
    "tuple_ = np.array(list_)\n",
    "\n",
    "print('Converting tuple')\n",
    "print('%s type -> %s'%(tuple_, type(tuple)))"
   ]
  },
  {
   "cell_type": "markdown",
   "id": "33f923a0",
   "metadata": {},
   "source": [
    "- Ways to convert array of strings to array of floats"
   ]
  },
  {
   "cell_type": "code",
   "execution_count": 17,
   "id": "a3149a4a",
   "metadata": {},
   "outputs": [
    {
     "name": "stdout",
     "output_type": "stream",
     "text": [
      "String array ['1.1' '3.4' '6.5' '8.9']\n",
      "Float array [1.1 3.4 6.5 8.9]\n"
     ]
    }
   ],
   "source": [
    "arr = np.array(['1.1', '3.4', '6.5', '8.9'])\n",
    "\n",
    "arr_float = arr.astype(float)\n",
    "\n",
    "print('String array %s'%arr)\n",
    "print('Float array %s'%arr_float)"
   ]
  },
  {
   "cell_type": "markdown",
   "id": "c1d8bafa",
   "metadata": {},
   "source": [
    "- Convert a NumPy array into a csv file"
   ]
  },
  {
   "cell_type": "code",
   "execution_count": 18,
   "id": "7780f509",
   "metadata": {},
   "outputs": [],
   "source": [
    "arr = np.array([[1, 2, 3],\n",
    "                [0, 5, 2],\n",
    "                [1, 0, 3]])\n",
    "\n",
    "np.savetxt('data.csv', arr, delimiter=',')"
   ]
  },
  {
   "cell_type": "markdown",
   "id": "de0b260d",
   "metadata": {},
   "source": [
    "- Save a NumPy array to a text file"
   ]
  },
  {
   "cell_type": "code",
   "execution_count": 19,
   "id": "742584fc",
   "metadata": {},
   "outputs": [],
   "source": [
    "arr = np.array([[1, 2, 3],\n",
    "                [0, 5, 2],\n",
    "                [1, 0, 3]])\n",
    "\n",
    "np.savetxt('data.txt', arr, delimiter=',')"
   ]
  },
  {
   "cell_type": "markdown",
   "id": "e8e5e9da",
   "metadata": {},
   "source": [
    "- Load data from a text file"
   ]
  },
  {
   "cell_type": "code",
   "execution_count": 20,
   "id": "91538f85",
   "metadata": {},
   "outputs": [
    {
     "name": "stdout",
     "output_type": "stream",
     "text": [
      "[[1. 2. 3.]\n",
      " [0. 5. 2.]\n",
      " [1. 0. 3.]]\n"
     ]
    }
   ],
   "source": [
    "with open('data.txt', 'r') as f:\n",
    "    data = [i.split(',') for i in f.read().split('\\n')[:-1]]\n",
    "\n",
    "result = np.array(data).astype(float)\n",
    "print(result)"
   ]
  },
  {
   "cell_type": "markdown",
   "id": "594cc53b",
   "metadata": {},
   "source": [
    "- Plot line graph from NumPy array"
   ]
  },
  {
   "cell_type": "code",
   "execution_count": 21,
   "id": "f391a0ac",
   "metadata": {},
   "outputs": [
    {
     "data": {
      "image/png": "[encoded data removed]",
      "text/plain": [
       "<Figure size 432x288 with 1 Axes>"
      ]
     },
     "metadata": {
      "needs_background": "light"
     },
     "output_type": "display_data"
    }
   ],
   "source": [
    "import matplotlib.pyplot as plt\n",
    "\n",
    "arr = np.array([[1, 5],[3, 10],[4, 6],[9, 2]])\n",
    "\n",
    "plt.plot(arr[:,0], arr[:, 1])\n",
    "plt.show()"
   ]
  },
  {
   "cell_type": "markdown",
   "id": "ed4be3a3",
   "metadata": {},
   "source": [
    "- Create Histogram using NumPy"
   ]
  },
  {
   "cell_type": "code",
   "execution_count": 22,
   "id": "cdc38481",
   "metadata": {},
   "outputs": [
    {
     "data": {
      "image/png": "[encoded data removed]",
      "text/plain": [
       "<Figure size 432x288 with 1 Axes>"
      ]
     },
     "metadata": {
      "needs_background": "light"
     },
     "output_type": "display_data"
    }
   ],
   "source": [
    "data = np.random.normal(size=1000)\n",
    "\n",
    "plt.hist(data, bins=50)\n",
    "plt.show()"
   ]
  }
 ],
 "metadata": {
  "kernelspec": {
   "display_name": "Python 3 (ipykernel)",
   "language": "python",
   "name": "python3"
  },
  "language_info": {
   "codemirror_mode": {
    "name": "ipython",
    "version": 3
   },
   "file_extension": ".py",
   "mimetype": "text/x-python",
   "name": "python",
   "nbconvert_exporter": "python",
   "pygments_lexer": "ipython3",
   "version": "3.9.11"
  }
 },
 "nbformat": 4,
 "nbformat_minor": 5
}
