{
 "cells": [
  {
   "cell_type": "markdown",
   "id": "15c79eb3",
   "metadata": {},
   "source": [
    "### SORTING AND SEARCHING WITH NUMPY\n",
    "- Getting the indices of a sorted array using NumPy"
   ]
  },
  {
   "cell_type": "code",
   "execution_count": 1,
   "id": "d5118c06",
   "metadata": {},
   "outputs": [],
   "source": [
    "import numpy as np\n",
    "np.random.seed(101)"
   ]
  },
  {
   "cell_type": "code",
   "execution_count": 2,
   "id": "ad04ab67",
   "metadata": {},
   "outputs": [
    {
     "name": "stdout",
     "output_type": "stream",
     "text": [
      "Array: [8 4 2 7 8 8]\n",
      "Indices of sorted array: [2 1 3 0 4 5]\n",
      "Sorted array: [2 4 7 8 8 8]\n"
     ]
    }
   ],
   "source": [
    "arr = np.random.randint(1, 9, 6)\n",
    "\n",
    "sorted_idx = np.argsort(arr)\n",
    "\n",
    "print('Array: %s'%arr)\n",
    "print('Indices of sorted array: %s'%sorted_idx)\n",
    "print('Sorted array: %s'%arr[sorted_idx])"
   ]
  },
  {
   "cell_type": "markdown",
   "id": "42da51af",
   "metadata": {},
   "source": [
    "- Finding the k smallest values of a NumPy array"
   ]
  },
  {
   "cell_type": "code",
   "execution_count": 3,
   "id": "f8e2b7ee",
   "metadata": {},
   "outputs": [
    {
     "name": "stdout",
     "output_type": "stream",
     "text": [
      "Original array: [6 4 8 2 6 1 5 8 1 6]\n",
      "Sorted array: [1 1 2 4 5 6 6 6 8 8]\n",
      "4 lowest values: [1 1 2 4]\n"
     ]
    }
   ],
   "source": [
    "k = 4\n",
    "arr = np.random.randint(1, 9, 10)\n",
    "\n",
    "sorted_arr = np.sort(arr)\n",
    "small = sorted_arr[:k]\n",
    "\n",
    "print('Original array: %s'%arr)\n",
    "print('Sorted array: %s'%sorted_arr)\n",
    "print('%s lowest values: %s'%(k, small))"
   ]
  },
  {
   "cell_type": "markdown",
   "id": "92486a4e",
   "metadata": {},
   "source": [
    "- Getting the n-largest values of an array using NumPy"
   ]
  },
  {
   "cell_type": "code",
   "execution_count": 4,
   "id": "98a12954",
   "metadata": {},
   "outputs": [
    {
     "name": "stdout",
     "output_type": "stream",
     "text": [
      "Original array: [5 5 1 7 6 5 6 1 2 4]\n",
      "Sorted array: [1 1 2 4 5 5 5 6 6 7]\n",
      "4 largest values: [5 6 6 7]\n"
     ]
    }
   ],
   "source": [
    "n = 4\n",
    "arr = np.random.randint(1, 9, 10)\n",
    "\n",
    "sorted_arr = np.sort(arr)\n",
    "larg = sorted_arr[-n:]\n",
    "\n",
    "print('Original array: %s'%arr)\n",
    "print('Sorted array: %s'%sorted_arr)\n",
    "print('%s largest values: %s'%(n, larg))"
   ]
  },
  {
   "cell_type": "markdown",
   "id": "a95c1970",
   "metadata": {},
   "source": [
    "- Sorting the values in a matrix"
   ]
  },
  {
   "cell_type": "code",
   "execution_count": 5,
   "id": "f28ca529",
   "metadata": {},
   "outputs": [
    {
     "name": "stdout",
     "output_type": "stream",
     "text": [
      "Array:\n",
      "[[8 3 1]\n",
      " [4 6 4]\n",
      " [4 3 5]]\n",
      "\n",
      "Column sort:\n",
      "[[4 3 1]\n",
      " [4 3 4]\n",
      " [8 6 5]]\n",
      "\n",
      "Rows sort:\n",
      "[[1 3 8]\n",
      " [4 4 6]\n",
      " [3 4 5]]\n"
     ]
    }
   ],
   "source": [
    "arr = np.random.randint(1, 9, (3, 3))\n",
    "\n",
    "sorted_cols = np.sort(arr, axis=0)\n",
    "sorted_rows = np.sort(arr, axis=1)\n",
    "\n",
    "print('Array:\\n%s\\n'%arr)\n",
    "print('Column sort:\\n%s\\n'%sorted_cols)\n",
    "print('Rows sort:\\n%s'%sorted_rows)"
   ]
  },
  {
   "cell_type": "markdown",
   "id": "36647c18",
   "metadata": {},
   "source": [
    "- Filter out integers from float numpy array"
   ]
  },
  {
   "cell_type": "code",
   "execution_count": 6,
   "id": "0663857c",
   "metadata": {},
   "outputs": [
    {
     "name": "stdout",
     "output_type": "stream",
     "text": [
      "Original array: [ 1.   3.   0.2  1.5  4.  10.1]\n",
      "Filtering out floats: [1. 3. 4.]\n",
      "Filtering out integers: [ 0.2  1.5 10.1]\n"
     ]
    }
   ],
   "source": [
    "arr = np.array([1, 3, 0.2, 1.5, 4, 10.1])\n",
    "\n",
    "int_arr = arr[arr == arr.astype(int)]\n",
    "float_arr = arr[arr != arr.astype(int)]\n",
    "\n",
    "print('Original array: %s'%arr)\n",
    "print('Filtering out floats: %s'%int_arr)\n",
    "print('Filtering out integers: %s'%float_arr)"
   ]
  },
  {
   "cell_type": "markdown",
   "id": "4d864ed0",
   "metadata": {},
   "source": [
    "- Find the indices into a sorted array"
   ]
  },
  {
   "cell_type": "code",
   "execution_count": 7,
   "id": "1a2b24c2",
   "metadata": {},
   "outputs": [
    {
     "name": "stdout",
     "output_type": "stream",
     "text": [
      "Array: [ 3  5  7 11 13 17 19]\n",
      "Values [2, 6, 15] should be placed at index [0 2 5]\n"
     ]
    }
   ],
   "source": [
    "arr = np.array([3, 5, 7, 11, 13, 17, 19])\n",
    "\n",
    "num = [2, 6, 15]\n",
    "idx = np.searchsorted(arr, num)\n",
    "\n",
    "print('Array: %s'%arr)\n",
    "print('Values %s should be placed at index %s'%(num, idx))"
   ]
  }
 ],
 "metadata": {
  "kernelspec": {
   "display_name": "Python 3 (ipykernel)",
   "language": "python",
   "name": "python3"
  },
  "language_info": {
   "codemirror_mode": {
    "name": "ipython",
    "version": 3
   },
   "file_extension": ".py",
   "mimetype": "text/x-python",
   "name": "python",
   "nbconvert_exporter": "python",
   "pygments_lexer": "ipython3",
   "version": "3.9.11"
  }
 },
 "nbformat": 4,
 "nbformat_minor": 5
}
