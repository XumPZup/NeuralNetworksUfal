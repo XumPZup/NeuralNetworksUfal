{
 "cells": [
  {
   "cell_type": "markdown",
   "id": "f6f82964",
   "metadata": {},
   "source": [
    "### NUMPY MATRIX TUTORIAL\n",
    "- Get the maximum value from given matrix"
   ]
  },
  {
   "cell_type": "code",
   "execution_count": 80,
   "id": "76a8dd72",
   "metadata": {},
   "outputs": [],
   "source": [
    "import numpy as np"
   ]
  },
  {
   "cell_type": "code",
   "execution_count": 81,
   "id": "2f0a44e0",
   "metadata": {},
   "outputs": [
    {
     "name": "stdout",
     "output_type": "stream",
     "text": [
      "[[1 6]\n",
      " [7 9]\n",
      " [8 4]\n",
      " [8 5]\n",
      " [0 5]\n",
      " [8 1]\n",
      " [3 8]\n",
      " [3 3]\n",
      " [2 8]\n",
      " [9 3]]\n",
      "The maximum value is: 9\n"
     ]
    }
   ],
   "source": [
    "np.random.seed(101)\n",
    "\n",
    "arr = np.random.randint(0, 10, (10, 2))\n",
    "\n",
    "print(arr)\n",
    "print('The maximum value is: %s'%np.max(arr))"
   ]
  },
  {
   "cell_type": "markdown",
   "id": "6219688e",
   "metadata": {},
   "source": [
    "- Get the minimum value from given matrix"
   ]
  },
  {
   "cell_type": "code",
   "execution_count": 82,
   "id": "b857728f",
   "metadata": {},
   "outputs": [
    {
     "name": "stdout",
     "output_type": "stream",
     "text": [
      "[[7 0]\n",
      " [9 7]\n",
      " [9 8]\n",
      " [4 3]\n",
      " [3 7]\n",
      " [4 8]\n",
      " [7 6]\n",
      " [9 4]\n",
      " [2 7]\n",
      " [7 7]]\n",
      "The minimum value is: 0\n"
     ]
    }
   ],
   "source": [
    "arr = np.random.randint(0, 10, (10, 2))\n",
    "\n",
    "print(arr)\n",
    "print('The minimum value is: %s'%np.min(arr))"
   ]
  },
  {
   "cell_type": "markdown",
   "id": "990b0643",
   "metadata": {},
   "source": [
    "- Find the number of rows and columns of a given matrix using NumPy"
   ]
  },
  {
   "cell_type": "code",
   "execution_count": 83,
   "id": "52178147",
   "metadata": {},
   "outputs": [
    {
     "name": "stdout",
     "output_type": "stream",
     "text": [
      "The matrix:\n",
      "[[0 4 1 8 3]\n",
      " [1 8 4 3 2]\n",
      " [3 3 7 4 8]]\n",
      "Has 3 rows and 5 columns\n"
     ]
    }
   ],
   "source": [
    "arr = np.random.randint(0, 10, (3, 5))\n",
    "rows, cols = arr.shape\n",
    "\n",
    "print('The matrix:\\n%s'%arr)\n",
    "print('Has %s rows and %s columns'%(rows, cols))"
   ]
  },
  {
   "cell_type": "markdown",
   "id": "7c88034c",
   "metadata": {},
   "source": [
    "- Select the elements from a given matrix"
   ]
  },
  {
   "cell_type": "code",
   "execution_count": 84,
   "id": "42af0bdd",
   "metadata": {},
   "outputs": [
    {
     "name": "stdout",
     "output_type": "stream",
     "text": [
      "Given the matrix:\n",
      "[[6 3 7 6 5]\n",
      " [6 9 2 2 1]\n",
      " [3 3 3 4 5]]\n",
      "The first row is: [6 3 7 6 5]\n",
      "The first column is: [6 6 3]\n",
      "The element in the middle is: 2\n"
     ]
    }
   ],
   "source": [
    "arr = np.random.randint(0, 10, (3, 5))\n",
    "first_row = arr[0,:]\n",
    "first_col = arr[:, 0]\n",
    "middle_elem = arr[1, 2]\n",
    "\n",
    "print('Given the matrix:\\n%s'%arr)\n",
    "print('The first row is: %s'%first_row)\n",
    "print('The first column is: %s'%first_col)\n",
    "print('The element in the middle is: %s'%middle_elem)"
   ]
  },
  {
   "cell_type": "markdown",
   "id": "a17b13b1",
   "metadata": {},
   "source": [
    "- Find the sum of values in a matrix"
   ]
  },
  {
   "cell_type": "code",
   "execution_count": 85,
   "id": "051195b6",
   "metadata": {},
   "outputs": [
    {
     "name": "stdout",
     "output_type": "stream",
     "text": [
      "The sum of\n",
      "[[9 5 8 3 6]\n",
      " [8 7 5 7 5]\n",
      " [4 4 7 3 2]]\n",
      " is 83\n"
     ]
    }
   ],
   "source": [
    "arr = np.random.randint(0, 10, (3, 5))\n",
    "arr_sum = np.sum(arr)\n",
    "\n",
    "print('The sum of\\n%s\\n is %s'%(arr, arr_sum))"
   ]
  },
  {
   "cell_type": "markdown",
   "id": "36ba71f5",
   "metadata": {},
   "source": [
    "- Calculate the sum of the diagonal elements of a NumPy array"
   ]
  },
  {
   "cell_type": "code",
   "execution_count": 86,
   "id": "e83b1b38",
   "metadata": {},
   "outputs": [
    {
     "name": "stdout",
     "output_type": "stream",
     "text": [
      "The diagonal sum of\n",
      "[[3 2 9 3 5]\n",
      " [6 6 5 5 1]\n",
      " [7 4 7 4 5]\n",
      " [1 6 9 2 6]\n",
      " [3 8 1 7 4]]\n",
      " is 22\n"
     ]
    }
   ],
   "source": [
    "arr = np.random.randint(0, 10, (5, 5))\n",
    "trace = np.trace(arr)\n",
    "#trace = np.sum(arr.diagonal())\n",
    "\n",
    "\n",
    "print('The diagonal sum of\\n%s\\n is %s'%(arr, trace))"
   ]
  },
  {
   "cell_type": "markdown",
   "id": "66e211b1",
   "metadata": {},
   "source": [
    "- Adding and Subtracting Matrices in Python"
   ]
  },
  {
   "cell_type": "code",
   "execution_count": 87,
   "id": "de767419",
   "metadata": {},
   "outputs": [
    {
     "name": "stdout",
     "output_type": "stream",
     "text": [
      "A =\n",
      "[[1 8 4]\n",
      " [0 4 2]\n",
      " [5 8 1]\n",
      " [8 4 6]\n",
      " [9 4 3]]\n",
      "B=\n",
      "[[1 4 4]\n",
      " [4 2 3]\n",
      " [1 7 4]\n",
      " [0 6 7]\n",
      " [4 0 7]]\n",
      "A + B =\n",
      "[[ 2 12  8]\n",
      " [ 4  6  5]\n",
      " [ 6 15  5]\n",
      " [ 8 10 13]\n",
      " [13  4 10]]\n",
      "A - B =\n",
      "[[ 0  4  0]\n",
      " [-4  2 -1]\n",
      " [ 4  1 -3]\n",
      " [ 8 -2 -1]\n",
      " [ 5  4 -4]]\n"
     ]
    }
   ],
   "source": [
    "arr1 = np.random.randint(0, 10, (5, 3))\n",
    "arr2 = np.random.randint(0, 10, (5, 3))\n",
    "\n",
    "sum_ = arr1 + arr2\n",
    "sub = arr1 - arr2\n",
    "\n",
    "print('A =\\n%s\\nB=\\n%s'%(arr1, arr2))\n",
    "print('A + B =\\n%s'%sum_)\n",
    "print('A - B =\\n%s'%sub)"
   ]
  },
  {
   "cell_type": "markdown",
   "id": "341f716f",
   "metadata": {},
   "source": [
    "- Ways to add row/columns in numpy array"
   ]
  },
  {
   "cell_type": "code",
   "execution_count": 88,
   "id": "05338854",
   "metadata": {},
   "outputs": [
    {
     "name": "stdout",
     "output_type": "stream",
     "text": [
      "Starting array:\n",
      "[[2 7 9 7 6]\n",
      " [5 2 8 6 1]\n",
      " [1 9 9 2 0]]\n",
      "New row: [2 2 8 9 6]\n",
      "New column: [6 9 4]\n",
      "Array with added row:\n",
      "[[2 7 9 7 6]\n",
      " [5 2 8 6 1]\n",
      " [1 9 9 2 0]\n",
      " [2 2 8 9 6]]\n",
      "Array with added column:\n",
      "[[2 7 9 7 6 6]\n",
      " [5 2 8 6 1 9]\n",
      " [1 9 9 2 0 4]]\n"
     ]
    }
   ],
   "source": [
    "arr = np.random.randint(0, 10, (3, 5))\n",
    "new_row = np.random.randint(0, 10, 5)\n",
    "new_col = np.random.randint(0, 10, 3)\n",
    "\n",
    "# Using vstack and hstack\n",
    "arr_plus_row = np.vstack((arr, new_row))\n",
    "arr_plus_col = np.hstack((arr, new_col.reshape(3, 1)))\n",
    "\n",
    "# Using np.append\n",
    "#arr_plus_row = np.append(arr, [new_row], axis=0)\n",
    "#arr_plus_col = np.append(arr, new_col.reshape(3, 1), axis=1)\n",
    "\n",
    "# Using row and coulmn stack\n",
    "#arr_plus_row = np.row_stack((arr, new_row))\n",
    "#arr_plus_col = np.column_stack((arr, new_col))\n",
    "\n",
    "print('Starting array:\\n%s'%arr)\n",
    "print('New row: %s'%new_row)\n",
    "print('New column: %s'%new_col)\n",
    "\n",
    "print('Array with added row:\\n%s'%arr_plus_row)\n",
    "print('Array with added column:\\n%s'%arr_plus_col)"
   ]
  },
  {
   "cell_type": "markdown",
   "id": "6d2a1b3e",
   "metadata": {},
   "source": [
    "- Matrix Multiplication in NumPy"
   ]
  },
  {
   "cell_type": "code",
   "execution_count": 89,
   "id": "bf12100f",
   "metadata": {},
   "outputs": [
    {
     "name": "stdout",
     "output_type": "stream",
     "text": [
      "A=\n",
      "[[0 4]\n",
      " [9 1]\n",
      " [6 7]\n",
      " [8 0]]\n",
      "B=\n",
      "[[0 8]\n",
      " [7 0]]\n",
      "\n",
      "A * B =\n",
      "[[28  0]\n",
      " [ 7 72]\n",
      " [49 48]\n",
      " [ 0 64]]\n"
     ]
    }
   ],
   "source": [
    "arr1 = np.random.randint(0, 10, (4, 2))\n",
    "arr2 = np.random.randint(0, 10, (2, 2))\n",
    "\n",
    "#mult = np.matmul(arr1, arr2)\n",
    "#mult = np.dot(arr1, arr2)\n",
    "mult = arr1 @ arr2\n",
    "\n",
    "print('A=\\n%s\\nB=\\n%s\\n'%(arr1, arr2))\n",
    "print('A * B =\\n%s'%mult)"
   ]
  },
  {
   "cell_type": "markdown",
   "id": "c104fe82",
   "metadata": {},
   "source": [
    "- Get the eigen values of a matrix"
   ]
  },
  {
   "cell_type": "code",
   "execution_count": 90,
   "id": "ff014666",
   "metadata": {},
   "outputs": [
    {
     "name": "stdout",
     "output_type": "stream",
     "text": [
      "The igenvalues of\n",
      "[[6 7 7]\n",
      " [4 3 9]\n",
      " [8 1 2]]\n",
      "\n",
      "are:\n",
      "[15.7776657 +0.j         -2.38883285+3.56004071j -2.38883285-3.56004071j]\n"
     ]
    }
   ],
   "source": [
    "arr = np.random.randint(0, 10, (3, 3))\n",
    "eigen = np.linalg.eigvals(arr)\n",
    "\n",
    "print('The igenvalues of\\n%s\\n\\nare:\\n%s'%(arr, eigen))"
   ]
  },
  {
   "cell_type": "markdown",
   "id": "6555c572",
   "metadata": {},
   "source": [
    "- Calculate the determinant of a matrix using NumPy"
   ]
  },
  {
   "cell_type": "code",
   "execution_count": 91,
   "id": "0596dbb3",
   "metadata": {},
   "outputs": [
    {
     "name": "stdout",
     "output_type": "stream",
     "text": [
      "The determinant of\n",
      "[[6 5 2]\n",
      " [6 1 2]\n",
      " [5 9 3]]\n",
      "\n",
      "is:\n",
      "-32.0\n"
     ]
    }
   ],
   "source": [
    "arr = np.random.randint(0, 10, (3, 3))\n",
    "determinant = np.linalg.det(arr)\n",
    "\n",
    "print('The determinant of\\n%s\\n\\nis:\\n%s'%(arr, determinant))"
   ]
  },
  {
   "cell_type": "markdown",
   "id": "e5a116a9",
   "metadata": {},
   "source": [
    "- Calculate the inverse of a matrix using NumPy"
   ]
  },
  {
   "cell_type": "code",
   "execution_count": 92,
   "id": "c4c94769",
   "metadata": {},
   "outputs": [
    {
     "name": "stdout",
     "output_type": "stream",
     "text": [
      "The inverse matrix of\n",
      "[[3 5 2]\n",
      " [1 5 3]\n",
      " [7 9 3]]\n",
      "\n",
      "is:\n",
      "[[ -6.    1.5   2.5]\n",
      " [  9.   -2.5  -3.5]\n",
      " [-13.    4.    5. ]]\n"
     ]
    }
   ],
   "source": [
    "arr = np.random.randint(0, 10, (3, 3))\n",
    "inverse = np.linalg.inv(arr)\n",
    "\n",
    "print('The inverse matrix of\\n%s\\n\\nis:\\n%s'%(arr, inverse))"
   ]
  },
  {
   "cell_type": "markdown",
   "id": "04797d37",
   "metadata": {},
   "source": [
    "- Count the frequency of unique values in a NumPy array"
   ]
  },
  {
   "cell_type": "code",
   "execution_count": 93,
   "id": "b84b5930",
   "metadata": {},
   "outputs": [
    {
     "name": "stdout",
     "output_type": "stream",
     "text": [
      "Array [0 0 1 4 1 2 4 3 2 3 4 2 3 4 1 4 1 3 2 3]\n",
      "Has unique values [0 1 2 3 4]\n",
      "With frequencies [2 4 4 5 5]\n"
     ]
    }
   ],
   "source": [
    "arr = np.random.randint(0, 5, 20)\n",
    "unique, frequency = np.unique(arr, return_counts=True)\n",
    "\n",
    "print('Array %s'%arr)\n",
    "print('Has unique values %s'%unique)\n",
    "print('With frequencies %s'%frequency)"
   ]
  },
  {
   "cell_type": "markdown",
   "id": "def4a060",
   "metadata": {},
   "source": [
    "- Multiply matrices of complex numbers using NumPy"
   ]
  },
  {
   "cell_type": "code",
   "execution_count": 94,
   "id": "66bc763c",
   "metadata": {},
   "outputs": [
    {
     "name": "stdout",
     "output_type": "stream",
     "text": [
      "A =\n",
      "[[ 7.+3.j 10.+3.j 11.+3.j  3.+3.j]\n",
      " [11.+3.j  6.+3.j  4.+3.j  5.+3.j]\n",
      " [ 2.+3.j  3.+3.j  9.+3.j 11.+3.j]]\n",
      "\n",
      "B=\n",
      "[[ 7.+5.j 10.+5.j  6.+5.j]\n",
      " [ 7.+5.j  7.+5.j  7.+5.j]\n",
      " [ 2.+5.j  6.+5.j  3.+5.j]\n",
      " [ 8.+5.j  1.+5.j  8.+5.j]]\n",
      "\n",
      "A * B =\n",
      "[[105.+227.j 149.+227.j 109.+227.j]\n",
      " [107.+202.j 121.+202.j 100.+202.j]\n",
      " [ 81.+197.j  46.+197.j  88.+197.j]]\n"
     ]
    }
   ],
   "source": [
    "arr1 = np.random.randint(0, 10, (3, 4)) + 2+3j\n",
    "arr2 = np.random.randint(0, 10, (4, 3)) + 1+5j\n",
    "\n",
    "#mult = np.dot(arr1, arr2)\n",
    "mult = arr1 @ arr2\n",
    "\n",
    "print('A =\\n%s\\n\\nB=\\n%s\\n'%(arr1, arr2))\n",
    "print('A * B =\\n%s'%mult)"
   ]
  },
  {
   "cell_type": "markdown",
   "id": "6bfa29e6",
   "metadata": {},
   "source": [
    "- Compute the outer product of two given vectors using NumPy "
   ]
  },
  {
   "cell_type": "code",
   "execution_count": 95,
   "id": "542ea740",
   "metadata": {},
   "outputs": [
    {
     "name": "stdout",
     "output_type": "stream",
     "text": [
      "A=\n",
      "[0 5 0 4]\n",
      "\n",
      "B=\n",
      "[1 6 9 0]\n",
      "\n",
      "The outer product of A and B is:\n",
      "[[ 0  0  0  0]\n",
      " [ 5 30 45  0]\n",
      " [ 0  0  0  0]\n",
      " [ 4 24 36  0]]\n"
     ]
    }
   ],
   "source": [
    "arr1 = np.random.randint(0, 10, 4)\n",
    "arr2 = np.random.randint(0, 10, 4)\n",
    "\n",
    "out = np.outer(arr1, arr2)\n",
    "\n",
    "print('A=\\n%s\\n\\nB=\\n%s\\n'%(arr1, arr2))\n",
    "print('The outer product of A and B is:\\n%s'%out)"
   ]
  },
  {
   "cell_type": "markdown",
   "id": "eaa74ed4",
   "metadata": {},
   "source": [
    "- Calculate inner, outer, and cross products of matrices and vectors using NumPy"
   ]
  },
  {
   "cell_type": "code",
   "execution_count": 96,
   "id": "f1ba4665",
   "metadata": {},
   "outputs": [
    {
     "name": "stdout",
     "output_type": "stream",
     "text": [
      "A=\n",
      "[[0 9]\n",
      " [7 6]]\n",
      "\n",
      "B=\n",
      "[[7 7]\n",
      " [8 9]]\n",
      "\n",
      "The outer product of A and B is:\n",
      "[[ 0  0  0  0]\n",
      " [63 63 72 81]\n",
      " [49 49 56 63]\n",
      " [42 42 48 54]]\n",
      "The inner product of A and B is:\n",
      "[[ 63  81]\n",
      " [ 91 110]]\n",
      "The cross product of A and B is:\n",
      "[-63  15]\n"
     ]
    }
   ],
   "source": [
    "arr1 = np.random.randint(0, 10, (2,2))\n",
    "arr2 = np.random.randint(0, 10, (2,2))\n",
    "\n",
    "out = np.outer(arr1, arr2)\n",
    "inner = np.inner(arr1, arr2)\n",
    "cross = np.cross(arr1, arr2)\n",
    "\n",
    "print('A=\\n%s\\n\\nB=\\n%s\\n'%(arr1, arr2))\n",
    "print('The outer product of A and B is:\\n%s'%out)\n",
    "print('The inner product of A and B is:\\n%s'%inner)\n",
    "print('The cross product of A and B is:\\n%s'%cross)"
   ]
  },
  {
   "cell_type": "markdown",
   "id": "1cf6c409",
   "metadata": {},
   "source": [
    "- Compute the covariance matrix of two given NumPy arrays"
   ]
  },
  {
   "cell_type": "code",
   "execution_count": 97,
   "id": "c57011ad",
   "metadata": {},
   "outputs": [
    {
     "name": "stdout",
     "output_type": "stream",
     "text": [
      "A=\n",
      "[4 0 7]\n",
      "\n",
      "B=\n",
      "[6 0 3]\n",
      "\n",
      "The covariance matrix of A and B is:\n",
      "[[12.33333333  6.        ]\n",
      " [ 6.          9.        ]]\n"
     ]
    }
   ],
   "source": [
    "arr1 = np.random.randint(0, 10, 3)\n",
    "arr2 = np.random.randint(0, 10, 3)\n",
    "\n",
    "data = np.vstack((arr1, arr2))\n",
    "\n",
    "covariance = np.cov(data)\n",
    "print('A=\\n%s\\n\\nB=\\n%s\\n'%(arr1, arr2))\n",
    "print('The covariance matrix of A and B is:\\n%s'%covariance)"
   ]
  },
  {
   "cell_type": "markdown",
   "id": "e3538823",
   "metadata": {},
   "source": [
    "- Convert covariance matrix to correlation matrix using Python"
   ]
  },
  {
   "cell_type": "code",
   "execution_count": 98,
   "id": "af057f63",
   "metadata": {},
   "outputs": [
    {
     "name": "stdout",
     "output_type": "stream",
     "text": [
      "The correlation matrix is:\n",
      "[[1.        0.5694948]\n",
      " [0.5694948 1.       ]]\n"
     ]
    }
   ],
   "source": [
    "def covariance(x, y):\n",
    "    n = len(x)\n",
    "\n",
    "    return sum((x - x.mean()) * (y - y.mean())) / n\n",
    "\n",
    "\n",
    "def correlation_mat(data):\n",
    " \n",
    "    rows, cols = data.shape\n",
    "    corr_mat = np.zeros((rows, rows))\n",
    " \n",
    "    for j in range(rows):\n",
    " \n",
    "        for i in range(rows):\n",
    " \n",
    "            x, y = data[i, :], data[j, :]\n",
    "            # not here that we are just normalizing the covariance matrix\n",
    "            corr_mat[i][j] = covariance(x, y) / (x.std() * y.std())\n",
    " \n",
    "    return corr_mat\n",
    "\n",
    "corr = correlation_mat(data)\n",
    "\n",
    "print('The correlation matrix is:\\n%s'%corr)"
   ]
  },
  {
   "cell_type": "markdown",
   "id": "ef6033f8",
   "metadata": {},
   "source": [
    "- Compute the Kronecker product of two mulitdimension NumPy arrays"
   ]
  },
  {
   "cell_type": "code",
   "execution_count": 99,
   "id": "874678cc",
   "metadata": {},
   "outputs": [
    {
     "name": "stdout",
     "output_type": "stream",
     "text": [
      "A=\n",
      "[[7 9]\n",
      " [7 2]]\n",
      "\n",
      "B=\n",
      "[[7 9]\n",
      " [7 0]]\n",
      "\n",
      "The kronecker product of A and B is:\n",
      "[[49 63 63 81]\n",
      " [49  0 63  0]\n",
      " [49 63 14 18]\n",
      " [49  0 14  0]]\n"
     ]
    }
   ],
   "source": [
    "arr1 = np.random.randint(0, 10, (2, 2))\n",
    "arr2 = np.random.randint(0, 10, (2, 2))\n",
    "\n",
    "kroneckerProduct = np.kron(arr1, arr2)\n",
    "\n",
    "print('A=\\n%s\\n\\nB=\\n%s\\n'%(arr1, arr2))\n",
    "print('The kronecker product of A and B is:\\n%s'%kroneckerProduct)"
   ]
  },
  {
   "cell_type": "markdown",
   "id": "13945cd1",
   "metadata": {},
   "source": [
    "- Convert the matrix into a list"
   ]
  },
  {
   "cell_type": "code",
   "execution_count": 100,
   "id": "2f635431",
   "metadata": {},
   "outputs": [
    {
     "name": "stdout",
     "output_type": "stream",
     "text": [
      "Array converted to list:\n",
      "[[8, 3], [4, 5]]\n"
     ]
    }
   ],
   "source": [
    "arr = np.random.randint(0, 10, (2, 2))\n",
    "arr_tolist = arr.tolist()\n",
    "\n",
    "print('Array converted to list:\\n%s'%arr_tolist)"
   ]
  }
 ],
 "metadata": {
  "kernelspec": {
   "display_name": "Python 3 (ipykernel)",
   "language": "python",
   "name": "python3"
  },
  "language_info": {
   "codemirror_mode": {
    "name": "ipython",
    "version": 3
   },
   "file_extension": ".py",
   "mimetype": "text/x-python",
   "name": "python",
   "nbconvert_exporter": "python",
   "pygments_lexer": "ipython3",
   "version": "3.9.11"
  }
 },
 "nbformat": 4,
 "nbformat_minor": 5
}
