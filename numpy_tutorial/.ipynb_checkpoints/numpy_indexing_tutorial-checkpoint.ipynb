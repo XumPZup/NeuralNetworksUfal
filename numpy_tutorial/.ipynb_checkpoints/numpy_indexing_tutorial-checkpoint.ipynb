{
 "cells": [
  {
   "cell_type": "markdown",
   "id": "d2e4789e",
   "metadata": {},
   "source": [
    "### NUMPY INDEXING TUTORIAL\n",
    "- Replace NumPy array elements that doesn’t satisfy the given condition"
   ]
  },
  {
   "cell_type": "code",
   "execution_count": 1,
   "id": "84890c34",
   "metadata": {},
   "outputs": [],
   "source": [
    "import numpy as np\n",
    "np.random.seed(101)"
   ]
  },
  {
   "cell_type": "code",
   "execution_count": 2,
   "id": "bd2f58a6",
   "metadata": {},
   "outputs": [
    {
     "name": "stdout",
     "output_type": "stream",
     "text": [
      "Original array: [1 2 3 4 5 6 7 8 9]\n",
      "Replace values that aren't graeater than 4 with 0\n",
      "Array with values replaced: [0 0 0 0 5 6 7 8 9]\n"
     ]
    }
   ],
   "source": [
    "arr = np.arange(1, 10)\n",
    "\n",
    "print('Original array: %s'%arr)\n",
    "print(\"Replace values that aren't graeater than 4 with 0\")\n",
    "\n",
    "arr[~(arr > 4)] = 0\n",
    "\n",
    "print('Array with values replaced: %s'%arr)"
   ]
  },
  {
   "cell_type": "markdown",
   "id": "051a2f2d",
   "metadata": {},
   "source": [
    "- Return the indices of elements where the given condition is satisfied"
   ]
  },
  {
   "cell_type": "code",
   "execution_count": 3,
   "id": "f3921849",
   "metadata": {},
   "outputs": [
    {
     "name": "stdout",
     "output_type": "stream",
     "text": [
      "The array [0 4 1 0 2 0]\n",
      "has values 0 at index [0 3 5]\n"
     ]
    }
   ],
   "source": [
    "arr = np.array([0, 4, 1, 0, 2, 0])\n",
    "zero_idx = np.where(arr == 0)\n",
    "\n",
    "print('The array %s\\nhas values 0 at index %s'%(arr, zero_idx[0]))"
   ]
  },
  {
   "cell_type": "markdown",
   "id": "570ea231",
   "metadata": {},
   "source": [
    "- Replace NaN values with average of columns"
   ]
  },
  {
   "cell_type": "code",
   "execution_count": 4,
   "id": "bd452bf7",
   "metadata": {},
   "outputs": [
    {
     "name": "stdout",
     "output_type": "stream",
     "text": [
      "The array:\n",
      "[[ 0.  5.  1.  3.  4.]\n",
      " [nan  2.  4.  7. nan]\n",
      " [ 2.  3.  1. 10. 11.]\n",
      " [ 0.  2.  5. nan 12.]]\n",
      "has NaN values at colums [0 4 3]\n",
      "The mean values of the colums are: [0.66666667 3.         2.75       6.66666667 9.        ]\n",
      "The resulting array is:\n",
      "[[ 0.          5.          1.          3.          4.        ]\n",
      " [ 0.66666667  2.          4.          7.          9.        ]\n",
      " [ 2.          3.          1.         10.         11.        ]\n",
      " [ 0.          2.          5.          6.66666667 12.        ]]\n"
     ]
    }
   ],
   "source": [
    "arr = np.array([[0, 5, 1, 3, 4],\n",
    "                [np.nan, 2, 4, 7, np.nan],\n",
    "                [2, 3, 1, 10, 11],\n",
    "                [0, 2, 5, np.nan, 12]])\n",
    "\n",
    "means = np.nanmean(arr, axis=0)\n",
    "idx = np.where(np.isnan(arr))\n",
    "\n",
    "print('The array:\\n%s\\nhas NaN values at colums %s'%(arr, idx[1]))\n",
    "print('The mean values of the colums are: %s'%means)\n",
    "\n",
    "arr[idx] = means[idx[1]]\n",
    "\n",
    "print('The resulting array is:\\n%s'%arr)\n"
   ]
  },
  {
   "cell_type": "markdown",
   "id": "cdcbed2a",
   "metadata": {},
   "source": [
    "- Replace negative value with zero in numpy array"
   ]
  },
  {
   "cell_type": "code",
   "execution_count": 5,
   "id": "968412ef",
   "metadata": {},
   "outputs": [
    {
     "name": "stdout",
     "output_type": "stream",
     "text": [
      "Replace negative value with 0:\n",
      "[[  9   5   1   3   4]\n",
      " [ -4   2   4   7 -12]\n",
      " [  2   3   1  -2  11]\n",
      " [  5   2   5 -11  12]]\n",
      "\n",
      "Result:\n",
      "[[ 9  5  1  3  4]\n",
      " [ 0  2  4  7  0]\n",
      " [ 2  3  1  0 11]\n",
      " [ 5  2  5  0 12]]\n"
     ]
    }
   ],
   "source": [
    "arr = np.array([[9, 5, 1, 3, 4],\n",
    "                [-4, 2, 4, 7, -12],\n",
    "                [2, 3, 1, -2, 11],\n",
    "                [5, 2, 5, -11, 12]])\n",
    "\n",
    "print('Replace negative value with 0:\\n%s\\n'%arr)\n",
    "arr[arr < 0] = 0\n",
    "\n",
    "print('Result:\\n%s'%arr)"
   ]
  },
  {
   "cell_type": "markdown",
   "id": "15e0c0ca",
   "metadata": {},
   "source": [
    "- Get values of an NumPy array at certain index positions"
   ]
  },
  {
   "cell_type": "code",
   "execution_count": 6,
   "id": "a8906969",
   "metadata": {},
   "outputs": [
    {
     "name": "stdout",
     "output_type": "stream",
     "text": [
      "Array:\n",
      "[[12 18  7]\n",
      " [12 16 10]\n",
      " [14  9  5]\n",
      " [ 9  1 15]]\n",
      "\n",
      "The row at index 1 is: [12 16 10]\n",
      "The column at index 0 is: [12 12 14  9]\n",
      "The value at index 1 0 is: 12\n"
     ]
    }
   ],
   "source": [
    "arr = np.random.randint(1, 20, (4, 3))\n",
    "row = np.random.randint(0, 4)\n",
    "col = np.random.randint(0, 3)\n",
    "\n",
    "value = arr[row, col]\n",
    "full_row = arr[row, :]\n",
    "full_col = arr[:, col]\n",
    "\n",
    "print('Array:\\n%s\\n'%arr)\n",
    "print('The row at index %s is: %s'%(row, full_row))\n",
    "print('The column at index %s is: %s'%(col, full_col))\n",
    "print('The value at index %s %s is: %s'%(row, col, value))"
   ]
  },
  {
   "cell_type": "markdown",
   "id": "99f53842",
   "metadata": {},
   "source": [
    "- Find indices of elements equal to zero in a NumPy array"
   ]
  },
  {
   "cell_type": "code",
   "execution_count": 7,
   "id": "44028dd8",
   "metadata": {},
   "outputs": [
    {
     "name": "stdout",
     "output_type": "stream",
     "text": [
      "Array:\n",
      "[[1 0 1]\n",
      " [3 3 2]\n",
      " [0 3 1]\n",
      " [3 3 2]]\n",
      "\n",
      "Indices of elements equals to zero :\n",
      "[[0 1]\n",
      " [2 0]]\n",
      "\n"
     ]
    }
   ],
   "source": [
    "arr = np.random.randint(0, 4, (4, 3))\n",
    "\n",
    "idx = np.where(arr == 0)\n",
    "\n",
    "formatted_idx = np.column_stack((idx[0], idx[1]))\n",
    "print('Array:\\n%s\\n'%(arr))\n",
    "print('Indices of elements equals to zero :\\n%s\\n'%(formatted_idx))"
   ]
  },
  {
   "cell_type": "markdown",
   "id": "341ef13b",
   "metadata": {},
   "source": [
    "- How to Remove columns in Numpy array that contains non-numeric values"
   ]
  },
  {
   "cell_type": "code",
   "execution_count": 8,
   "id": "1e94d111",
   "metadata": {},
   "outputs": [
    {
     "name": "stdout",
     "output_type": "stream",
     "text": [
      "Array:\n",
      "[[ 1.  4. nan  6.]\n",
      " [ 2. nan  5.  3.]]\n",
      "\n",
      "After removing columns containing NaN:\n",
      "[[1. 6.]\n",
      " [2. 3.]]\n"
     ]
    }
   ],
   "source": [
    "arr = np.array([[1, 4, np.nan, 6],\n",
    "                [2, np.nan, 5, 3]])\n",
    "\n",
    "colums_idx = ~np.isnan(arr).any(axis=0)\n",
    "result = arr[:, colums_idx]\n",
    "\n",
    "print('Array:\\n%s\\n'%arr)\n",
    "print('After removing columns containing NaN:\\n%s'%result)"
   ]
  },
  {
   "cell_type": "markdown",
   "id": "805dba15",
   "metadata": {},
   "source": [
    "- How to access different rows of a multidimensional NumPy array"
   ]
  },
  {
   "cell_type": "code",
   "execution_count": 9,
   "id": "949bc3c5",
   "metadata": {},
   "outputs": [
    {
     "name": "stdout",
     "output_type": "stream",
     "text": [
      "The row at index 2 of the array:\n",
      "[[8 9 3 7 0]\n",
      " [9 7 9 8 4]\n",
      " [3 3 7 4 8]\n",
      " [7 6 9 4 2]\n",
      " [7 7 7 0 4]]\n",
      "\n",
      "is: [3 3 7 4 8]\n"
     ]
    }
   ],
   "source": [
    "arr = np.random.randint(0, 10, (5, 5))\n",
    "row_idx =  np.random.randint(5)\n",
    "row_values = arr[row_idx, :]\n",
    "\n",
    "print('The row at index %s of the array:\\n%s\\n\\nis: %s'%(row_idx, arr, row_values))"
   ]
  },
  {
   "cell_type": "markdown",
   "id": "44d186d4",
   "metadata": {},
   "source": [
    "- Get row numbers of NumPy array having element larger than X"
   ]
  },
  {
   "cell_type": "code",
   "execution_count": 10,
   "id": "e3d713df",
   "metadata": {},
   "outputs": [
    {
     "name": "stdout",
     "output_type": "stream",
     "text": [
      "Array:\n",
      "[[1 8 3 1 8]\n",
      " [4 3 2 3 3]\n",
      " [7 4 8 6 3]\n",
      " [7 6 5 6 9]\n",
      " [2 2 1 3 3]]\n",
      "\n",
      "Indices of rows containing a value larger than 7:\n",
      "[0 2 3]\n"
     ]
    }
   ],
   "source": [
    "X = 7\n",
    "arr = np.random.randint(0, 10, (5, 5))\n",
    "row_idx, = np.where(np.any(arr > X, axis=1))\n",
    "\n",
    "print('Array:\\n%s\\n'%arr)\n",
    "print('Indices of rows containing a value larger than %s:\\n%s'%(X, row_idx))"
   ]
  },
  {
   "cell_type": "markdown",
   "id": "41ee17d8",
   "metadata": {},
   "source": [
    "- Get filled the diagonals of NumPy array"
   ]
  },
  {
   "cell_type": "code",
   "execution_count": 11,
   "id": "56bf5883",
   "metadata": {},
   "outputs": [
    {
     "name": "stdout",
     "output_type": "stream",
     "text": [
      "Array:\n",
      "[[1. 0. 0. 1.]\n",
      " [0. 1. 1. 0.]\n",
      " [0. 1. 1. 0.]\n",
      " [1. 0. 0. 1.]]\n",
      "\n"
     ]
    }
   ],
   "source": [
    "value = 1\n",
    "arr = np.zeros((4, 4))\n",
    "# Fill diagonal starting up\n",
    "np.fill_diagonal(arr, value)\n",
    "# Fill diagonal starting down\n",
    "np.fill_diagonal(arr[::-1,:], value)\n",
    "\n",
    "print('Array:\\n%s\\n'%arr)"
   ]
  },
  {
   "cell_type": "markdown",
   "id": "64625d10",
   "metadata": {},
   "source": [
    "- Check elements present in the NumPy array"
   ]
  },
  {
   "cell_type": "code",
   "execution_count": 12,
   "id": "bc1e2a56",
   "metadata": {},
   "outputs": [
    {
     "name": "stdout",
     "output_type": "stream",
     "text": [
      "A =\n",
      "[[3 4 5 9 5]\n",
      " [8 3 6 8 7]\n",
      " [5 7 5 4 4]\n",
      " [7 3 2 3 2]\n",
      " [9 3 5 6 6]]\n",
      "\n",
      "Is 11 in A? False\n",
      "Is 5 in A? True\n",
      "Is 3 in A? True\n",
      "Is 12 in A? False\n"
     ]
    }
   ],
   "source": [
    "arr = np.random.randint(0, 10, (5, 5))\n",
    "\n",
    "values = [11, 5, 3, 12]\n",
    "\n",
    "print('A =\\n%s\\n'%arr)\n",
    "for val in values:\n",
    "    print('Is %s in A? %s'%(val, val in arr))"
   ]
  },
  {
   "cell_type": "markdown",
   "id": "e01d37fe",
   "metadata": {},
   "source": [
    "- Combined array index by index"
   ]
  },
  {
   "cell_type": "code",
   "execution_count": 13,
   "id": "9e133611",
   "metadata": {},
   "outputs": [
    {
     "name": "stdout",
     "output_type": "stream",
     "text": [
      "Array#1:\n",
      "[6 6 2]\n",
      "\n",
      "Array#2:\n",
      "[8 5 8]\n",
      "\n",
      "Combination:\n",
      "[6 8 6 5 2 8]\n"
     ]
    }
   ],
   "source": [
    "arr1 = np.random.randint(1, 10, 3)\n",
    "arr2 = np.random.randint(1, 10, 3)\n",
    "\n",
    "combined = np.vstack((arr1, arr2)).flatten('F')\n",
    "\n",
    "print('Array#1:\\n%s\\n\\nArray#2:\\n%s\\n'%(arr1, arr2))\n",
    "print('Combination:\\n%s'%combined)"
   ]
  }
 ],
 "metadata": {
  "kernelspec": {
   "display_name": "Python 3 (ipykernel)",
   "language": "python",
   "name": "python3"
  },
  "language_info": {
   "codemirror_mode": {
    "name": "ipython",
    "version": 3
   },
   "file_extension": ".py",
   "mimetype": "text/x-python",
   "name": "python",
   "nbconvert_exporter": "python",
   "pygments_lexer": "ipython3",
   "version": "3.9.11"
  }
 },
 "nbformat": 4,
 "nbformat_minor": 5
}
