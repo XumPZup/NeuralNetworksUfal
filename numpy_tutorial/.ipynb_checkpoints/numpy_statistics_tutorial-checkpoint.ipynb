{
 "cells": [
  {
   "cell_type": "markdown",
   "id": "dc1f6fe9",
   "metadata": {},
   "source": [
    "### NUMPY STATISTICS\n",
    "- Compute the median of the flattened NumPy array"
   ]
  },
  {
   "cell_type": "code",
   "execution_count": 1,
   "id": "9aeff2eb",
   "metadata": {},
   "outputs": [],
   "source": [
    "import numpy as np"
   ]
  },
  {
   "cell_type": "code",
   "execution_count": 2,
   "id": "e26a6fa0",
   "metadata": {},
   "outputs": [
    {
     "name": "stdout",
     "output_type": "stream",
     "text": [
      "The median of [ 3  4  5  8 11 22 34] is 8.0\n"
     ]
    }
   ],
   "source": [
    "arr = np.array([3, 4, 5, 8, 11, 22, 34])\n",
    "med = np.median(arr)\n",
    "\n",
    "print('The median of %s is %s'%(arr, med))"
   ]
  },
  {
   "cell_type": "markdown",
   "id": "002f3176",
   "metadata": {},
   "source": [
    "- Find Mean of a List of Numpy Array"
   ]
  },
  {
   "cell_type": "code",
   "execution_count": 3,
   "id": "784ef42c",
   "metadata": {},
   "outputs": [
    {
     "name": "stdout",
     "output_type": "stream",
     "text": [
      "List of arrays: [array([3, 4, 6, 9]), array([1, 2, 4, 5]), array([ 5,  7,  8, 10])]\n",
      "Respective mean values: [5.5, 3.0, 7.5]\n"
     ]
    }
   ],
   "source": [
    "arr1 = np.array([3, 4, 6, 9])\n",
    "arr2 = np.array([1, 2, 4, 5])\n",
    "arr3 = np.array([5, 7, 8, 10])\n",
    "\n",
    "list_ = [arr1, arr2, arr3]\n",
    "\n",
    "means = [np.mean(i) for i in list_]\n",
    "\n",
    "print('List of arrays: %s'%list_)\n",
    "print('Respective mean values: %s'%means)"
   ]
  },
  {
   "cell_type": "markdown",
   "id": "b6082828",
   "metadata": {},
   "source": [
    "- Calculate the mean of array ignoring the NaN value"
   ]
  },
  {
   "cell_type": "code",
   "execution_count": 4,
   "id": "b193be01",
   "metadata": {},
   "outputs": [
    {
     "name": "stdout",
     "output_type": "stream",
     "text": [
      "Array with nan in it: [ 1.  3.  4. nan  2.  4.]\n",
      "Mean of the array: 2.8\n"
     ]
    }
   ],
   "source": [
    "arr = np.array([1, 3, 4, np.nan, 2, 4])\n",
    "\n",
    "mean = np.nanmean(arr)\n",
    "\n",
    "print('Array with nan in it: %s'%arr)\n",
    "print('Mean of the array: %s'%mean)"
   ]
  },
  {
   "cell_type": "markdown",
   "id": "0214c4dd",
   "metadata": {},
   "source": [
    "- Get the mean value from given matrix"
   ]
  },
  {
   "cell_type": "code",
   "execution_count": 5,
   "id": "be4098ce",
   "metadata": {},
   "outputs": [
    {
     "name": "stdout",
     "output_type": "stream",
     "text": [
      "The mean of the matrix:\n",
      "[[ 1  2  3]\n",
      " [ 5  6  8]\n",
      " [ 9 10 22]]\n",
      "\n",
      "is 7.333333333333333\n"
     ]
    }
   ],
   "source": [
    "arr = np.array([[1, 2, 3],\n",
    "                [5, 6, 8],\n",
    "                [9, 10, 22]])\n",
    "\n",
    "mean = np.mean(arr)\n",
    "\n",
    "print('The mean of the matrix:\\n%s\\n\\nis %s'%(arr, mean))"
   ]
  },
  {
   "cell_type": "markdown",
   "id": "f88c45d0",
   "metadata": {},
   "source": [
    "- Compute the variance of the NumPy array"
   ]
  },
  {
   "cell_type": "code",
   "execution_count": 6,
   "id": "7490835d",
   "metadata": {},
   "outputs": [
    {
     "name": "stdout",
     "output_type": "stream",
     "text": [
      "The variance of [ 3  5  7  9 11 13 17] is 19.918367346938773\n"
     ]
    }
   ],
   "source": [
    "arr = np.array([3, 5, 7, 9, 11, 13, 17])\n",
    "\n",
    "variance = np.var(arr)\n",
    "\n",
    "print('The variance of %s is %s'%(arr, variance))"
   ]
  },
  {
   "cell_type": "markdown",
   "id": "221233a1",
   "metadata": {},
   "source": [
    "- Compute the standard deviation of the NumPy array"
   ]
  },
  {
   "cell_type": "code",
   "execution_count": 7,
   "id": "757f2851",
   "metadata": {},
   "outputs": [
    {
     "name": "stdout",
     "output_type": "stream",
     "text": [
      "The standard deviation of [ 1  3 11 14 21 32 51] is 16.327015298927986\n"
     ]
    }
   ],
   "source": [
    "arr = np.array([1, 3, 11, 14, 21, 32, 51])\n",
    "\n",
    "std = np.std(arr)\n",
    "\n",
    "print('The standard deviation of %s is %s'%(arr, std))"
   ]
  },
  {
   "cell_type": "markdown",
   "id": "470013c4",
   "metadata": {},
   "source": [
    "- Compute pearson product-moment correlation coefficients of two given NumPy arrays"
   ]
  },
  {
   "cell_type": "code",
   "execution_count": 8,
   "id": "84662c47",
   "metadata": {},
   "outputs": [
    {
     "name": "stdout",
     "output_type": "stream",
     "text": [
      "A =[ 3  5  7  9 11 13 17]\n",
      "\n",
      "B =[ 1  3 11 14 21 32 51]\n",
      "\n",
      "Correlation coefficients of A and B:\n",
      "[[1.         0.98025326]\n",
      " [0.98025326 1.        ]]\n"
     ]
    }
   ],
   "source": [
    "arr1 = np.array([3, 5, 7, 9, 11, 13, 17])\n",
    "arr2 = np.array([1, 3, 11, 14, 21, 32, 51])\n",
    "\n",
    "corr_coef = np.corrcoef(arr1, arr2)\n",
    "\n",
    "print('A =%s\\n\\nB =%s\\n'%(arr1, arr2))\n",
    "print('Correlation coefficients of A and B:\\n%s'%corr_coef)"
   ]
  },
  {
   "cell_type": "markdown",
   "id": "9df01359",
   "metadata": {},
   "source": [
    "- Calculate the mean across dimension in a 2D NumPy array"
   ]
  },
  {
   "cell_type": "code",
   "execution_count": 9,
   "id": "cc88d79b",
   "metadata": {},
   "outputs": [
    {
     "name": "stdout",
     "output_type": "stream",
     "text": [
      "Array:\n",
      "[[3 5 7]\n",
      " [9 8 4]\n",
      " [2 6 9]\n",
      " [0 0 4]]\n",
      "\n",
      "Row means: [5.         7.         5.66666667 1.33333333]\n",
      "\n",
      "Column means: [3.5  4.75 6.  ]\n",
      "\n"
     ]
    }
   ],
   "source": [
    "arr = np.array([[3, 5, 7],\n",
    "                [9, 8 ,4],\n",
    "                [2, 6, 9],\n",
    "                [0, 0, 4]])\n",
    "\n",
    "row_means = np.mean(arr, axis=1)\n",
    "col_means = np.mean(arr, axis=0)\n",
    "\n",
    "print('Array:\\n%s\\n'%arr)\n",
    "print('Row means: %s\\n'%row_means)\n",
    "print('Column means: %s\\n'%col_means)"
   ]
  },
  {
   "cell_type": "markdown",
   "id": "e888f8f1",
   "metadata": {},
   "source": [
    "- Calculate the average, variance and standard deviation in Python using NumPy"
   ]
  },
  {
   "cell_type": "code",
   "execution_count": 10,
   "id": "3b410870",
   "metadata": {},
   "outputs": [
    {
     "name": "stdout",
     "output_type": "stream",
     "text": [
      "The array [ 1  3 11 14 21 32 51] has\n",
      " ° average = 19.0\n",
      " ° variance = 266.57142857142856\n",
      " ° standard deviation = 16.327015298927986\n"
     ]
    }
   ],
   "source": [
    "arr = np.array([1, 3, 11, 14, 21, 32, 51])\n",
    "\n",
    "avg = np.average(arr)\n",
    "variance = np.var(arr)\n",
    "std = np.std(arr)\n",
    "\n",
    "print('The array %s has\\n ° average = %s\\n ° variance = %s\\n ° standard deviation = %s'%(arr, avg, variance, std))"
   ]
  },
  {
   "cell_type": "markdown",
   "id": "4e4c4187",
   "metadata": {},
   "source": [
    "- Describe a NumPy Array in Python"
   ]
  },
  {
   "cell_type": "code",
   "execution_count": 11,
   "id": "1d2efe8b",
   "metadata": {},
   "outputs": [
    {
     "name": "stdout",
     "output_type": "stream",
     "text": [
      "Description of the array: [ 3  5  7  9 11 13 17]\n",
      " ° shape = (7,)\n",
      " ° mean = 9.285714285714286\n",
      " ° median = 9.0\n",
      " ° standard deviation = 4.462999814803802\n",
      " ° average = 9.285714285714286\n",
      " ° variance = 19.918367346938773\n",
      " ° min = 3\n",
      " ° 25% = 6.0\n",
      " ° 50% = 9.0\n",
      " ° 75% = 12.0\n",
      " ° max = 17\n",
      " ° range = 14\n"
     ]
    }
   ],
   "source": [
    "def describe(arr):\n",
    "    labels = ['shape', 'mean', 'median', 'standard deviation',\n",
    "              'average', 'variance', 'min', '25%', '50%', '75%',\n",
    "              'max', 'range']\n",
    "    values = [arr.shape,\n",
    "              np.mean(arr), \n",
    "              np.median(arr),\n",
    "              np.std(arr),\n",
    "              np.average(arr),\n",
    "              np.var(arr),\n",
    "              np.min(arr),\n",
    "              np.percentile(arr, 25), np.percentile(arr, 50), np.percentile(arr, 75),\n",
    "              np.max(arr),\n",
    "              np.ptp(arr)]\n",
    "    \n",
    "    print('Description of the array: %s'%arr)\n",
    "    for key, val in zip(labels, values):\n",
    "        print(' ° %s = %s'%(key, val))\n",
    "        \n",
    "\n",
    "arr = np.array([3, 5, 7, 9, 11, 13, 17])\n",
    "describe(arr)"
   ]
  }
 ],
 "metadata": {
  "kernelspec": {
   "display_name": "Python 3 (ipykernel)",
   "language": "python",
   "name": "python3"
  },
  "language_info": {
   "codemirror_mode": {
    "name": "ipython",
    "version": 3
   },
   "file_extension": ".py",
   "mimetype": "text/x-python",
   "name": "python",
   "nbconvert_exporter": "python",
   "pygments_lexer": "ipython3",
   "version": "3.9.11"
  }
 },
 "nbformat": 4,
 "nbformat_minor": 5
}
