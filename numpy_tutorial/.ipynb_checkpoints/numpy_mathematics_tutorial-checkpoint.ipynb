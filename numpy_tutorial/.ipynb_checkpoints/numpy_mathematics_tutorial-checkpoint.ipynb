{
 "cells": [
  {
   "cell_type": "markdown",
   "id": "031119b2",
   "metadata": {},
   "source": [
    "### NUMPY MATHEMATICS\n",
    "- Getting element-wise true division of an array using Numpy"
   ]
  },
  {
   "cell_type": "code",
   "execution_count": 1,
   "id": "fcd6a7be",
   "metadata": {},
   "outputs": [],
   "source": [
    "import numpy as np"
   ]
  },
  {
   "cell_type": "code",
   "execution_count": 2,
   "id": "cf974ffc",
   "metadata": {},
   "outputs": [
    {
     "name": "stdout",
     "output_type": "stream",
     "text": [
      "A = [5 2 1 3]\n",
      "B = [1.4 1.  5.  2. ]\n",
      "\n",
      "Result of element-wise true division of A/B:\n",
      "[3.57142857 2.         0.2        1.5       ]\n"
     ]
    }
   ],
   "source": [
    "arr1 = np.array([5, 2, 1, 3])\n",
    "arr2 = np.array([1.4, 1, 5, 2])\n",
    "\n",
    "result = np.true_divide(arr1, arr2)\n",
    "\n",
    "print('A = %s\\nB = %s\\n'%(arr1, arr2))\n",
    "print('Result of element-wise true division of A/B:\\n%s'%result)"
   ]
  },
  {
   "cell_type": "markdown",
   "id": "1252af87",
   "metadata": {},
   "source": [
    "- calculate the element-wise absolute value of a NumPy array"
   ]
  },
  {
   "cell_type": "code",
   "execution_count": 3,
   "id": "9aa20c75",
   "metadata": {},
   "outputs": [
    {
     "name": "stdout",
     "output_type": "stream",
     "text": [
      "Array: [ 1 -1 -1 -2  5  2]\n",
      "Absolute values of Array: [1 1 1 2 5 2]\n"
     ]
    }
   ],
   "source": [
    "arr = np.array([1, -1, -1, -2, 5, 2])\n",
    "\n",
    "abs_arr = np.abs(arr)\n",
    "\n",
    "print('Array: %s'%arr)\n",
    "print('Absolute values of Array: %s'%abs_arr)"
   ]
  },
  {
   "cell_type": "markdown",
   "id": "3f44f001",
   "metadata": {},
   "source": [
    "- Compute the negative of a NumPy array"
   ]
  },
  {
   "cell_type": "code",
   "execution_count": 4,
   "id": "06ad16d3",
   "metadata": {},
   "outputs": [
    {
     "name": "stdout",
     "output_type": "stream",
     "text": [
      "Original array: [-2  5 -3  1  0 -2]\n",
      "Negative array: [ 2 -5  3 -1  0  2]\n"
     ]
    }
   ],
   "source": [
    "arr = np.array([-2, 5, -3, 1, 0, -2])\n",
    "\n",
    "#negative = np.negative(arr) # Equivalet to the line below\n",
    "negative = arr * -1\n",
    "\n",
    "print('Original array: %s'%arr)\n",
    "print('Negative array: %s'%negative)"
   ]
  },
  {
   "cell_type": "markdown",
   "id": "040e2b87",
   "metadata": {},
   "source": [
    "- Multiply 2d numpy array corresponding to 1d array"
   ]
  },
  {
   "cell_type": "code",
   "execution_count": 5,
   "id": "626d113e",
   "metadata": {},
   "outputs": [
    {
     "name": "stdout",
     "output_type": "stream",
     "text": [
      "A =\n",
      "[[4 5]\n",
      " [5 6]\n",
      " [0 1]]\n",
      "\n",
      "B = [2 4 6]\n",
      "\n",
      "A * B =\n",
      "[[ 8 10]\n",
      " [20 24]\n",
      " [ 0  6]]\n"
     ]
    }
   ],
   "source": [
    "arr1 = np.array([[4, 5],\n",
    "                 [5, 6],\n",
    "                 [0, 1]])\n",
    "\n",
    "arr2 = np.array([2, 4, 6])\n",
    "\n",
    "#result = arr1 * arr2.reshape(len(arr2), 1)\n",
    "result = arr1 * arr2[:, None]\n",
    "\n",
    "print('A =\\n%s\\n\\nB = %s\\n'%(arr1, arr2))\n",
    "print('A * B =\\n%s'%(result))"
   ]
  },
  {
   "cell_type": "markdown",
   "id": "b5f9baa4",
   "metadata": {},
   "source": [
    "- Compute the inner product of two arrays"
   ]
  },
  {
   "cell_type": "code",
   "execution_count": 6,
   "id": "51733db9",
   "metadata": {},
   "outputs": [
    {
     "name": "stdout",
     "output_type": "stream",
     "text": [
      "A =[3 1 5 3]\n",
      "\n",
      "B = [0 2 1 7]\n",
      "\n",
      "Inner Product of A * B is:\n",
      "28\n"
     ]
    }
   ],
   "source": [
    "arr1 = np.array([3, 1, 5, 3])\n",
    "arr2 = np.array([0, 2, 1, 7])\n",
    "\n",
    "inner = np.inner(arr1, arr2)\n",
    "\n",
    "print('A =%s\\n\\nB = %s\\n'%(arr1, arr2))\n",
    "print('Inner Product of A * B is:\\n%s'%(inner))"
   ]
  },
  {
   "cell_type": "markdown",
   "id": "9c3c590c",
   "metadata": {},
   "source": [
    "- Compute the nth percentile of a NumPy array"
   ]
  },
  {
   "cell_type": "code",
   "execution_count": 7,
   "id": "ca4c24dc",
   "metadata": {},
   "outputs": [
    {
     "name": "stdout",
     "output_type": "stream",
     "text": [
      "Precentiles of [ 9 12  5  2  5  1  0]\n",
      "The 25th percentile is 1.5\n",
      "The 50th percentile is 5.0\n",
      "The 75th percentile is 7.0\n"
     ]
    }
   ],
   "source": [
    "xcents = [25, 50, 75]\n",
    "arr = np.array([9, 12, 5, 2, 5, 1, 0])\n",
    "\n",
    "print('Precentiles of %s'%arr)\n",
    "\n",
    "for xc in xcents:\n",
    "    percentile = np.percentile(arr, xc)\n",
    "    print('The %sth percentile is %s'%(xc, percentile))"
   ]
  },
  {
   "cell_type": "markdown",
   "id": "2730858e",
   "metadata": {},
   "source": [
    "- Calculate the n-th order discrete difference along the given axis"
   ]
  },
  {
   "cell_type": "code",
   "execution_count": 8,
   "id": "cf4f942c",
   "metadata": {},
   "outputs": [
    {
     "name": "stdout",
     "output_type": "stream",
     "text": [
      "Original array:\n",
      "[[4 1 3]\n",
      " [5 2 1]\n",
      " [0 1 9]]\n",
      "\n",
      "Row difference of 2nd order:\n",
      "[[-6 -2 10]]\n",
      "\n",
      "Column difference of 2nd order:\n",
      "[[5]\n",
      " [2]\n",
      " [7]]\n",
      "\n"
     ]
    }
   ],
   "source": [
    "arr = np.array([[4, 1, 3],\n",
    "                [5, 2, 1],\n",
    "                [0, 1, 9]])\n",
    "\n",
    "order = 2\n",
    "row_dif = np.diff(arr, n=order, axis=0)\n",
    "col_dif = np.diff(arr, n=order, axis=1)\n",
    "\n",
    "print('Original array:\\n%s\\n'%arr)\n",
    "print('Row difference of 2nd order:\\n%s\\n'%row_dif)\n",
    "print('Column difference of 2nd order:\\n%s\\n'%col_dif)"
   ]
  },
  {
   "cell_type": "markdown",
   "id": "b2e0b8ec",
   "metadata": {},
   "source": [
    "- Calculate the sum of all columns in a 2D NumPy array"
   ]
  },
  {
   "cell_type": "code",
   "execution_count": 9,
   "id": "7d4cbfb8",
   "metadata": {},
   "outputs": [
    {
     "name": "stdout",
     "output_type": "stream",
     "text": [
      "Original array:\n",
      "[[4 0]\n",
      " [2 4]\n",
      " [6 2]]\n",
      "\n",
      "Sum of column: [12  6]\n"
     ]
    }
   ],
   "source": [
    "arr = np.array([[4, 0],\n",
    "                [2, 4],\n",
    "                [6, 2]])\n",
    "\n",
    "col_sum = np.sum(arr, axis=0)\n",
    "\n",
    "print('Original array:\\n%s\\n'%arr)\n",
    "print('Sum of column: %s'%col_sum)"
   ]
  },
  {
   "cell_type": "markdown",
   "id": "e4605ab3",
   "metadata": {},
   "source": [
    "- Calculate average values of two given NumPy arrays"
   ]
  },
  {
   "cell_type": "code",
   "execution_count": 10,
   "id": "cb3aa3ea",
   "metadata": {},
   "outputs": [
    {
     "name": "stdout",
     "output_type": "stream",
     "text": [
      "A =[3 1 5 3]\n",
      "\n",
      "B =[0 2 1 7]\n",
      "\n",
      "Average of A and B:\n",
      "[1.5 1.5 3.  5. ]\n"
     ]
    }
   ],
   "source": [
    "arr1 = np.array([3, 1, 5, 3])\n",
    "arr2 = np.array([0, 2, 1, 7])\n",
    "\n",
    "avg = (arr1 + arr2) / 2\n",
    "\n",
    "print('A =%s\\n\\nB =%s\\n'%(arr1, arr2))\n",
    "print('Average of A and B:\\n%s'%avg)"
   ]
  },
  {
   "cell_type": "markdown",
   "id": "dabdd662",
   "metadata": {},
   "source": [
    "- Getting the floor, ceiling and truncated values of the elements of a numpy array"
   ]
  },
  {
   "cell_type": "code",
   "execution_count": 11,
   "id": "4c25bc51",
   "metadata": {},
   "outputs": [
    {
     "name": "stdout",
     "output_type": "stream",
     "text": [
      "Original array:\n",
      "[ 0.1     0.5512  1.512  10.     11.23  ]\n",
      "\n",
      "Floor array:\n",
      "[ 0.  0.  1. 10. 11.]\n",
      "\n",
      "Trunc array:\n",
      "[ 0.  0.  1. 10. 11.]\n",
      "\n",
      "Ceiling array:\n",
      "[ 1.  1.  2. 10. 12.]\n"
     ]
    }
   ],
   "source": [
    "arr = np.array([0.1, 0.5512, 1.512, 10, 11.23])\n",
    "\n",
    "floor_arr = np.floor(arr)\n",
    "trunc_arr = np.trunc(arr)\n",
    "ceiling_arr = np.ceil(arr)\n",
    "\n",
    "print('Original array:\\n%s\\n'%arr)\n",
    "print('Floor array:\\n%s\\n'%floor_arr)\n",
    "print('Trunc array:\\n%s\\n'%trunc_arr)\n",
    "print('Ceiling array:\\n%s'%ceiling_arr)"
   ]
  },
  {
   "cell_type": "markdown",
   "id": "0061b4c4",
   "metadata": {},
   "source": [
    "- Round elements of the NumPy array to the nearest integer"
   ]
  },
  {
   "cell_type": "code",
   "execution_count": 12,
   "id": "1499d20b",
   "metadata": {},
   "outputs": [
    {
     "name": "stdout",
     "output_type": "stream",
     "text": [
      "Original array:\n",
      "[ 5.1    10.5512  0.512   0.2   ]\n",
      "\n",
      "Rounded array:\n",
      "[ 5. 11.  1.  0.]\n"
     ]
    }
   ],
   "source": [
    "arr = np.array([5.1, 10.5512, 0.512, 0.2])\n",
    "\n",
    "rounded = np.round(arr)\n",
    "\n",
    "print('Original array:\\n%s\\n'%arr)\n",
    "print('Rounded array:\\n%s'%rounded)"
   ]
  },
  {
   "cell_type": "markdown",
   "id": "8d50d65d",
   "metadata": {},
   "source": [
    "- Find the rounded values of a given matrix"
   ]
  },
  {
   "cell_type": "code",
   "execution_count": 13,
   "id": "263f5826",
   "metadata": {},
   "outputs": [
    {
     "name": "stdout",
     "output_type": "stream",
     "text": [
      "Original array:\n",
      "[[4.6  0.99]\n",
      " [2.1  4.3 ]\n",
      " [6.2  2.7 ]]\n",
      "\n",
      "Rounded array:\n",
      "[[5. 1.]\n",
      " [2. 4.]\n",
      " [6. 3.]]\n",
      "\n"
     ]
    }
   ],
   "source": [
    "arr = np.array([[4.6, 0.99],\n",
    "                [2.1, 4.3],\n",
    "                [6.2, 2.7]])\n",
    "\n",
    "rounded = np.round(arr)\n",
    "\n",
    "print('Original array:\\n%s\\n'%arr)\n",
    "print('Rounded array:\\n%s\\n'%rounded)"
   ]
  },
  {
   "cell_type": "markdown",
   "id": "5834045c",
   "metadata": {},
   "source": [
    "- Determine the positive square-root of an array"
   ]
  },
  {
   "cell_type": "code",
   "execution_count": 14,
   "id": "cf0f12d1",
   "metadata": {},
   "outputs": [
    {
     "name": "stdout",
     "output_type": "stream",
     "text": [
      "Array:\n",
      "[[ 4 18  9]\n",
      " [11  9  0]]\n",
      "\n",
      "Square root of array:\n",
      "[[2.         4.24264069 3.        ]\n",
      " [3.31662479 3.         0.        ]]\n",
      "\n"
     ]
    }
   ],
   "source": [
    "arr = np.array([[4, 18, 9],\n",
    "               [11, 9, 0]])\n",
    "root = np.sqrt(arr)\n",
    "\n",
    "print('Array:\\n%s\\n'%arr)\n",
    "print('Square root of array:\\n%s\\n'%root)"
   ]
  },
  {
   "cell_type": "markdown",
   "id": "ec445695",
   "metadata": {},
   "source": [
    "- Evaluate Einstein’s summation convention of two multidimensional NumPy arrays"
   ]
  },
  {
   "cell_type": "code",
   "execution_count": 15,
   "id": "b8ff2a11",
   "metadata": {},
   "outputs": [
    {
     "name": "stdout",
     "output_type": "stream",
     "text": [
      "A =\n",
      "[[4 0]\n",
      " [2 4]]\n",
      "\n",
      "B =\n",
      "[[1 1]\n",
      " [3 7]]\n",
      "\n",
      "Eisten sum comvetion for A and B:\n",
      "[[ 4  4]\n",
      " [14 30]]\n"
     ]
    }
   ],
   "source": [
    "arr1 = np.array([[4, 0],\n",
    "                [2, 4]])\n",
    "\n",
    "arr2 = np.array([[1, 1],\n",
    "                [3, 7]])\n",
    "\n",
    "ein_sum = np.einsum('mk,kn', arr1, arr2)\n",
    "\n",
    "print('A =\\n%s\\n\\nB =\\n%s\\n'%(arr1, arr2))\n",
    "print('Eisten sum comvetion for A and B:\\n%s'%ein_sum)"
   ]
  }
 ],
 "metadata": {
  "kernelspec": {
   "display_name": "Python 3 (ipykernel)",
   "language": "python",
   "name": "python3"
  },
  "language_info": {
   "codemirror_mode": {
    "name": "ipython",
    "version": 3
   },
   "file_extension": ".py",
   "mimetype": "text/x-python",
   "name": "python",
   "nbconvert_exporter": "python",
   "pygments_lexer": "ipython3",
   "version": "3.9.11"
  }
 },
 "nbformat": 4,
 "nbformat_minor": 5
}
