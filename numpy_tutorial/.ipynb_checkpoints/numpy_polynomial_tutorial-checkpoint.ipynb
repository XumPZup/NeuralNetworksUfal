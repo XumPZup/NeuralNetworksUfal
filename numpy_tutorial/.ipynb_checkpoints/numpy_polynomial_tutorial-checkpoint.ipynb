{
 "cells": [
  {
   "cell_type": "markdown",
   "id": "bbc7e669",
   "metadata": {},
   "source": [
    "### NUMPY POLYNOMIAL\n",
    "- Define a polynomial function"
   ]
  },
  {
   "cell_type": "code",
   "execution_count": 1,
   "id": "07526407",
   "metadata": {},
   "outputs": [],
   "source": [
    "import numpy as np"
   ]
  },
  {
   "cell_type": "code",
   "execution_count": 2,
   "id": "efc57876",
   "metadata": {},
   "outputs": [
    {
     "name": "stdout",
     "output_type": "stream",
     "text": [
      "This is a NumPy polynomial of  \n",
      "3 x + 4 \n"
     ]
    }
   ],
   "source": [
    "p1 = np.poly1d([3, 4])\n",
    "\n",
    "print('This is a NumPy polynomial of %s '%p1)"
   ]
  },
  {
   "cell_type": "markdown",
   "id": "2a62cc6a",
   "metadata": {},
   "source": [
    "- Add one polynomial to another using NumPy"
   ]
  },
  {
   "cell_type": "code",
   "execution_count": 3,
   "id": "fd3016f1",
   "metadata": {},
   "outputs": [
    {
     "name": "stdout",
     "output_type": "stream",
     "text": [
      "p1 =  \n",
      "3 x + 4\n",
      "\n",
      "p2 =  \n",
      "5 x + 7\n",
      "\n",
      "p1 + p2 =  \n",
      "8 x + 11\n"
     ]
    }
   ],
   "source": [
    "p1 = np.poly1d([3, 4])\n",
    "p2 = np.poly1d([5, 7])\n",
    "\n",
    "sum_ = np.polyadd(p1, p2)\n",
    "\n",
    "print('p1 = %s\\n\\np2 = %s\\n'%(p1, p2))\n",
    "print('p1 + p2 = %s'%sum_)"
   ]
  },
  {
   "cell_type": "markdown",
   "id": "4ff9159d",
   "metadata": {},
   "source": [
    "- Subtract one polynomial to another using NumPy"
   ]
  },
  {
   "cell_type": "code",
   "execution_count": 4,
   "id": "7e6fc760",
   "metadata": {},
   "outputs": [
    {
     "name": "stdout",
     "output_type": "stream",
     "text": [
      "p1 =  \n",
      "3 x + 4\n",
      "\n",
      "p2 =  \n",
      "5 x + 7\n",
      "\n",
      "p1 - p2 =  \n",
      "-2 x - 3\n"
     ]
    }
   ],
   "source": [
    "sub = np.polysub(p1, p2)\n",
    "\n",
    "print('p1 = %s\\n\\np2 = %s\\n'%(p1, p2))\n",
    "print('p1 - p2 = %s'%sub)"
   ]
  },
  {
   "cell_type": "markdown",
   "id": "15ee3bf6",
   "metadata": {},
   "source": [
    "- Multiply a polynomial to another using NumPy"
   ]
  },
  {
   "cell_type": "code",
   "execution_count": 5,
   "id": "f89781f0",
   "metadata": {},
   "outputs": [
    {
     "name": "stdout",
     "output_type": "stream",
     "text": [
      "p1 =  \n",
      "3 x + 4\n",
      "\n",
      "p2 =  \n",
      "5 x + 7\n",
      "\n",
      "p1 * p2 =     2\n",
      "15 x + 41 x + 28\n"
     ]
    }
   ],
   "source": [
    "mult = np.polymul(p1, p2)\n",
    "\n",
    "print('p1 = %s\\n\\np2 = %s\\n'%(p1, p2))\n",
    "print('p1 * p2 = %s'%mult)"
   ]
  },
  {
   "cell_type": "markdown",
   "id": "ef986b72",
   "metadata": {},
   "source": [
    "- Divide a polynomial to another using NumPy"
   ]
  },
  {
   "cell_type": "code",
   "execution_count": 6,
   "id": "4cc52a30",
   "metadata": {},
   "outputs": [
    {
     "name": "stdout",
     "output_type": "stream",
     "text": [
      "p1 =  \n",
      "3 x + 4\n",
      "\n",
      "p2 =  \n",
      "5 x + 7\n",
      "\n",
      "Quotient and Remider of p1 / p2 \n",
      "0.6 \n",
      "-0.2\n"
     ]
    }
   ],
   "source": [
    "div = np.polydiv(p1, p2)\n",
    "\n",
    "print('p1 = %s\\n\\np2 = %s\\n'%(p1, p2))\n",
    "print('Quotient and Remider of p1 / p2%s%s'%div)"
   ]
  },
  {
   "cell_type": "markdown",
   "id": "483c14e2",
   "metadata": {},
   "source": [
    "- Find the roots of the polynomials using NumPy"
   ]
  },
  {
   "cell_type": "code",
   "execution_count": 7,
   "id": "226d9bce",
   "metadata": {},
   "outputs": [
    {
     "name": "stdout",
     "output_type": "stream",
     "text": [
      "The roots of the polynomial  \n",
      "3 x + 4 \n",
      "are \n",
      "[-1.33333333]\n"
     ]
    }
   ],
   "source": [
    "roots = p1.roots\n",
    "\n",
    "print('The roots of the polynomial %s \\nare \\n%s'%(p1, roots))"
   ]
  },
  {
   "cell_type": "markdown",
   "id": "553079de",
   "metadata": {},
   "source": [
    "- Evaluate a 2-D polynomial series on the Cartesian product"
   ]
  },
  {
   "cell_type": "code",
   "execution_count": 8,
   "id": "fff87c3a",
   "metadata": {},
   "outputs": [
    {
     "name": "stdout",
     "output_type": "stream",
     "text": [
      "2-D polynomial series on the Cartesian product of\n",
      "x =  \n",
      "3 x + 4\n",
      "y =  \n",
      "5 x + 7\n",
      "\n",
      "[21. 29.]\n"
     ]
    }
   ],
   "source": [
    "coeffs = np.array([[1, 0], \n",
    "                   [0, 1]])\n",
    "\n",
    "c_product = np.polynomial.polynomial.polygrid2d(p1, p2, coeffs)\n",
    "\n",
    "print('2-D polynomial series on the Cartesian product of\\nx = %s\\ny = %s\\n'%(p1, p2))\n",
    "print(c_product)"
   ]
  },
  {
   "cell_type": "markdown",
   "id": "1704c994",
   "metadata": {},
   "source": [
    "- Evaluate a 3-D polynomial series on the Cartesian product"
   ]
  },
  {
   "cell_type": "code",
   "execution_count": 9,
   "id": "d7d16130",
   "metadata": {},
   "outputs": [
    {
     "name": "stdout",
     "output_type": "stream",
     "text": [
      "2-D polynomial series on the Cartesian product of\n",
      "x =  \n",
      "3 x + 4\n",
      "y =  \n",
      "5 x + 7\n",
      "z =  \n",
      "4 x + 9\n",
      "\n",
      "[ 710. 1460.]\n"
     ]
    }
   ],
   "source": [
    "p3 = np.poly1d([4, 9])\n",
    "\n",
    "coeffs = np.array([[1, 0], \n",
    "                   [0, 1],\n",
    "                   [1, 1]])\n",
    "\n",
    "c_product = np.polynomial.polynomial.polygrid3d(p1, p2, p3, coeffs)\n",
    "\n",
    "print('2-D polynomial series on the Cartesian product of\\nx = %s\\ny = %s\\nz = %s\\n'%(p1, p2, p3))\n",
    "print(c_product)"
   ]
  }
 ],
 "metadata": {
  "kernelspec": {
   "display_name": "Python 3 (ipykernel)",
   "language": "python",
   "name": "python3"
  },
  "language_info": {
   "codemirror_mode": {
    "name": "ipython",
    "version": 3
   },
   "file_extension": ".py",
   "mimetype": "text/x-python",
   "name": "python",
   "nbconvert_exporter": "python",
   "pygments_lexer": "ipython3",
   "version": "3.9.11"
  }
 },
 "nbformat": 4,
 "nbformat_minor": 5
}
