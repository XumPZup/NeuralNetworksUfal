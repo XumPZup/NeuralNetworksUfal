{
 "cells": [
  {
   "cell_type": "markdown",
   "id": "a74d69f2",
   "metadata": {},
   "source": [
    "# NUMPY ARRAY TUTORIAL\n",
    "\n",
    "- Create an empty and a full NumPy array"
   ]
  },
  {
   "cell_type": "code",
   "execution_count": 2,
   "id": "a4484f04",
   "metadata": {},
   "outputs": [],
   "source": [
    "import numpy as np"
   ]
  },
  {
   "cell_type": "code",
   "execution_count": 3,
   "id": "60df1f0c",
   "metadata": {},
   "outputs": [
    {
     "name": "stdout",
     "output_type": "stream",
     "text": [
      "[]\n",
      "[ 5  9 11 25]\n"
     ]
    }
   ],
   "source": [
    "empty = np.array([])\n",
    "full = np.array([5, 9, 11, 25])\n",
    "print(empty)\n",
    "print(full)"
   ]
  },
  {
   "cell_type": "markdown",
   "id": "5897515b",
   "metadata": {},
   "source": [
    "- Create a Numpy array filled with all zeros"
   ]
  },
  {
   "cell_type": "code",
   "execution_count": 5,
   "id": "aa45fd95",
   "metadata": {},
   "outputs": [
    {
     "name": "stdout",
     "output_type": "stream",
     "text": [
      "[0. 0. 0. 0. 0. 0. 0. 0. 0. 0.]\n"
     ]
    }
   ],
   "source": [
    "zeros = np.zeros(10)\n",
    "print(zeros)"
   ]
  },
  {
   "cell_type": "markdown",
   "id": "85eb7d27",
   "metadata": {},
   "source": [
    "- Create a Numpy array filled with all ones"
   ]
  },
  {
   "cell_type": "code",
   "execution_count": 6,
   "id": "0d95710f",
   "metadata": {},
   "outputs": [
    {
     "name": "stdout",
     "output_type": "stream",
     "text": [
      "[1. 1. 1. 1. 1. 1. 1. 1. 1. 1.]\n"
     ]
    }
   ],
   "source": [
    "ones = np.ones(10)\n",
    "print(ones)"
   ]
  },
  {
   "cell_type": "markdown",
   "id": "a9e55bea",
   "metadata": {},
   "source": [
    "- Check whether a Numpy array contains a specified row"
   ]
  },
  {
   "cell_type": "code",
   "execution_count": 8,
   "id": "bb2e7c34",
   "metadata": {},
   "outputs": [
    {
     "name": "stdout",
     "output_type": "stream",
     "text": [
      "[[ 1  2  3]\n",
      " [ 5  7 11]\n",
      " [13 15 17]]\n",
      "True\n",
      "False\n"
     ]
    }
   ],
   "source": [
    "arr = np.array([[1,2,3],\n",
    "                [5, 7, 11],\n",
    "                [13, 15, 17]])\n",
    "\n",
    "print(arr)\n",
    "print([1, 2, 3] in arr.tolist())\n",
    "print([1, 5, 13] in arr.tolist())"
   ]
  },
  {
   "cell_type": "markdown",
   "id": "5ec3b22f",
   "metadata": {},
   "source": [
    "- Remove rows in a Numpy array that contains non-numeric values"
   ]
  },
  {
   "cell_type": "code",
   "execution_count": 9,
   "id": "f8c0dea4",
   "metadata": {},
   "outputs": [
    {
     "name": "stdout",
     "output_type": "stream",
     "text": [
      "Given array:\n",
      "[[ 1.  2.  4.]\n",
      " [nan  5. 19.]\n",
      " [ 0.  9. 33.]]\n",
      "nan rows removed:\n",
      "[[ 1.  2.  4.]\n",
      " [ 0.  9. 33.]]\n"
     ]
    }
   ],
   "source": [
    "n_arr = np.array([[1, 2, 4],\n",
    "                    [np.nan, 5, 19],\n",
    "                    [0, 9, 33]])\n",
    "print('Given array:')\n",
    "print(n_arr)\n",
    "print('nan rows removed:')\n",
    "print(n_arr[~np.isnan(n_arr).any(axis=1)])"
   ]
  },
  {
   "cell_type": "markdown",
   "id": "dc45c81b",
   "metadata": {},
   "source": [
    "- Remove single-dimensional entries from the shape of an array"
   ]
  },
  {
   "cell_type": "code",
   "execution_count": 10,
   "id": "8ca9286b",
   "metadata": {},
   "outputs": [
    {
     "name": "stdout",
     "output_type": "stream",
     "text": [
      "Imput array:\n",
      "[[[ 1  2  3]\n",
      "  [55 12 78]]]\n",
      "Array shape:\n",
      "(1, 2, 3)\n",
      "Result:\n",
      "[[ 1  2  3]\n",
      " [55 12 78]]\n",
      "Result shape:\n",
      "(2, 3)\n"
     ]
    }
   ],
   "source": [
    "arr = np.array([[[1, 2, 3], [55, 12, 78]]])\n",
    "squeezed = np.squeeze(arr)\n",
    "\n",
    "print('Imput array:')\n",
    "print(arr)\n",
    "print('Array shape:')\n",
    "print(arr.shape)\n",
    "print('Result:')\n",
    "print(squeezed)\n",
    "print('Result shape:')\n",
    "print(squeezed.shape)"
   ]
  },
  {
   "cell_type": "markdown",
   "id": "b9217c9b",
   "metadata": {},
   "source": [
    "- Find the number of occurrences of a sequence in a NumPy array"
   ]
  },
  {
   "cell_type": "code",
   "execution_count": 13,
   "id": "e97704d4",
   "metadata": {},
   "outputs": [
    {
     "name": "stdout",
     "output_type": "stream",
     "text": [
      "Repetitions of 1, 2 in:\n",
      "[[1 2 3 4]\n",
      " [6 8 1 2]\n",
      " [1 2 5 6]]\n",
      "3\n"
     ]
    }
   ],
   "source": [
    "arr = np.array([[1, 2, 3, 4],\n",
    "                [6, 8, 1, 2],\n",
    "                [1, 2, 5, 6]])\n",
    "reps = repr(arr).count('1, 2')\n",
    "\n",
    "print('Repetitions of 1, 2 in:\\n%s'%arr)\n",
    "print(reps)"
   ]
  },
  {
   "cell_type": "markdown",
   "id": "f520bee8",
   "metadata": {},
   "source": [
    "- Find the most frequent value in a NumPy array"
   ]
  },
  {
   "cell_type": "code",
   "execution_count": 15,
   "id": "f742fb4a",
   "metadata": {},
   "outputs": [
    {
     "name": "stdout",
     "output_type": "stream",
     "text": [
      "[5, 2, 5, 2, 6, 2, 5, 7, 2, 4, 2]\n",
      "Most frequent value is 2\n"
     ]
    }
   ],
   "source": [
    "arr = [5, 2, 5, 2, 6, 2, 5, 7, 2, 4, 2]\n",
    "most_frequent = np.bincount(arr).argmax()\n",
    "\n",
    "print(arr)\n",
    "print('Most frequent value is %s'%most_frequent)"
   ]
  },
  {
   "cell_type": "markdown",
   "id": "59d4c5c7",
   "metadata": {},
   "source": [
    "- Combining a one and a two-dimensional NumPy Array"
   ]
  },
  {
   "cell_type": "code",
   "execution_count": 16,
   "id": "a5437d6c",
   "metadata": {},
   "outputs": [
    {
     "name": "stdout",
     "output_type": "stream",
     "text": [
      "One dimensional: [1 2 3 4]\n",
      "Two dimensional:\n",
      "[[6 2 1 6]\n",
      " [9 8 7 6]]\n",
      "Combined:\n",
      "[[1 2 3 4]\n",
      " [6 2 1 6]\n",
      " [9 8 7 6]]\n"
     ]
    }
   ],
   "source": [
    "arr_1d = np.array([1, 2, 3, 4])\n",
    "\n",
    "arr_2d = np.array([[6, 2, 1, 6], \n",
    "                   [9, 8, 7, 6]])\n",
    "\n",
    "combined = np.vstack((arr_1d, arr_2d))\n",
    "\n",
    "print('One dimensional: %s'%arr_1d)\n",
    "print('Two dimensional:\\n%s'%arr_2d)\n",
    "print('Combined:\\n%s'%combined)"
   ]
  },
  {
   "cell_type": "markdown",
   "id": "a41021ad",
   "metadata": {},
   "source": [
    "-  Build an array of all combinations of two NumPy arrays"
   ]
  },
  {
   "cell_type": "code",
   "execution_count": 21,
   "id": "99033277",
   "metadata": {},
   "outputs": [
    {
     "name": "stdout",
     "output_type": "stream",
     "text": [
      "Array 1: [5 6]\n",
      "Array 2: [1 2]\n",
      "Combinations:\n",
      "[[5 1]\n",
      " [5 2]\n",
      " [6 1]\n",
      " [6 2]]\n"
     ]
    }
   ],
   "source": [
    "arr1 = np.array([5, 6])\n",
    "arr2 = np.array([1, 2])\n",
    "\n",
    "combined = np.array(np.meshgrid(arr1, arr2)).T.reshape(-1, len(arr1))\n",
    "\n",
    "print('Array 1: %s'%arr1)\n",
    "print('Array 2: %s'%arr2)\n",
    "print('Combinations:\\n%s'%combined)"
   ]
  },
  {
   "cell_type": "markdown",
   "id": "63560af3",
   "metadata": {},
   "source": [
    "- Add a border around a NumPy array"
   ]
  },
  {
   "cell_type": "code",
   "execution_count": 23,
   "id": "2ebc7deb",
   "metadata": {},
   "outputs": [
    {
     "name": "stdout",
     "output_type": "stream",
     "text": [
      "Original:\n",
      "[[1. 1. 1. 1.]\n",
      " [1. 1. 1. 1.]\n",
      " [1. 1. 1. 1.]\n",
      " [1. 1. 1. 1.]]\n",
      "Padded:\n",
      "[[0. 0. 0. 0. 0. 0.]\n",
      " [0. 1. 1. 1. 1. 0.]\n",
      " [0. 1. 1. 1. 1. 0.]\n",
      " [0. 1. 1. 1. 1. 0.]\n",
      " [0. 1. 1. 1. 1. 0.]\n",
      " [0. 0. 0. 0. 0. 0.]]\n"
     ]
    }
   ],
   "source": [
    "arr = np.ones((4, 4))\n",
    "padded = np.pad(arr, pad_width=1)\n",
    "\n",
    "print('Original:\\n%s'%arr)\n",
    "print('Padded:\\n%s'%padded)"
   ]
  },
  {
   "cell_type": "markdown",
   "id": "9535e070",
   "metadata": {},
   "source": [
    "- Compare two NumPy arrays"
   ]
  },
  {
   "cell_type": "code",
   "execution_count": 24,
   "id": "d6eb8c60",
   "metadata": {},
   "outputs": [
    {
     "name": "stdout",
     "output_type": "stream",
     "text": [
      "a = [ 1  5  9 12]\n",
      "b = [ 6  3  1 11]\n",
      "a > b\n",
      "[False  True  True  True]\n",
      "a >= b\n",
      "[False  True  True  True]\n",
      "a < b\n",
      "[ True False False False]\n",
      "a <= b\n",
      "[ True False False False]\n",
      "a == b\n",
      "[False False False False]\n"
     ]
    }
   ],
   "source": [
    "a = np.array([1, 5, 9, 12])\n",
    "b = np.array([6, 3, 1, 11])\n",
    "print('a = %s'%a)\n",
    "print('b = %s'%b)\n",
    "print('a > b')\n",
    "print(np.greater(a, b))\n",
    "print('a >= b')\n",
    "print(np.greater_equal(a, b))\n",
    "print('a < b')\n",
    "print(np.less(a, b))\n",
    "print('a <= b')\n",
    "print(np.less_equal(a, b))\n",
    "print('a == b')\n",
    "print(a == b)"
   ]
  },
  {
   "cell_type": "markdown",
   "id": "0549cb20",
   "metadata": {},
   "source": [
    "- Check whether specified values are present in NumPy array"
   ]
  },
  {
   "cell_type": "code",
   "execution_count": 26,
   "id": "c6090aa5",
   "metadata": {},
   "outputs": [
    {
     "name": "stdout",
     "output_type": "stream",
     "text": [
      "Array: [ 5  6  9 12]\n",
      "is 4 in array? False\n",
      "is 9 in array? True\n",
      "is 7 in array? False\n"
     ]
    }
   ],
   "source": [
    "arr = np.array([5, 6, 9, 12])\n",
    "print('Array: %s'%arr)\n",
    "print('is 4 in array? %s'%(4 in arr))\n",
    "print('is 9 in array? %s'%(9 in arr))\n",
    "print('is 7 in array? %s'%(7 in arr))"
   ]
  },
  {
   "cell_type": "markdown",
   "id": "ee8201ad",
   "metadata": {},
   "source": [
    "- Get all 2D diagonals of a 3D NumPy array"
   ]
  },
  {
   "cell_type": "code",
   "execution_count": 27,
   "id": "bd436be8",
   "metadata": {},
   "outputs": [
    {
     "name": "stdout",
     "output_type": "stream",
     "text": [
      "Array:\n",
      "[[[ 1  2  3]\n",
      "  [ 4  5  6]\n",
      "  [ 7  8  9]]\n",
      "\n",
      " [[ 0  4  2]\n",
      "  [ 1  7  8]\n",
      "  [ 9 10 11]]\n",
      "\n",
      " [[ 4  2  1]\n",
      "  [ 9  1  2]\n",
      "  [ 0  7  0]]]\n",
      "2D diagonals:\n",
      "[[ 1  5  9]\n",
      " [ 0  7 11]\n",
      " [ 4  1  0]]\n"
     ]
    }
   ],
   "source": [
    "arr = np.array([[[1, 2, 3], [4, 5, 6], [7, 8, 9]],\n",
    "                [[0, 4, 2], [1, 7, 8], [9, 10, 11]],\n",
    "                [[4, 2, 1], [9, 1, 2], [0, 7, 0]]])\n",
    "\n",
    "diag_array = np.diagonal(arr, axis1=1, axis2=2)\n",
    "\n",
    "print('Array:\\n%s'%arr)\n",
    "print('2D diagonals:\\n%s'%diag_array)"
   ]
  },
  {
   "cell_type": "markdown",
   "id": "1f44e1ed",
   "metadata": {},
   "source": [
    "- Flatten a Matrix in Python using NumPy"
   ]
  },
  {
   "cell_type": "code",
   "execution_count": 30,
   "id": "45cbe290",
   "metadata": {},
   "outputs": [
    {
     "name": "stdout",
     "output_type": "stream",
     "text": [
      "Original:\n",
      "[[1 2 3 4]\n",
      " [5 6 7 8]\n",
      " [4 3 2 1]]\n",
      "Flat: [1 2 3 4 5 6 7 8 4 3 2 1]\n"
     ]
    }
   ],
   "source": [
    "arr = np.array([[1,2,3,4],\n",
    "                [5,6,7,8],\n",
    "                [4,3,2,1]])\n",
    "\n",
    "# Equivalent to: arr.ravel()\n",
    "flat = arr.flatten()\n",
    "\n",
    "print('Original:\\n%s'%arr)\n",
    "print('Flat: %s'%flat)"
   ]
  },
  {
   "cell_type": "markdown",
   "id": "cf2b0dd2",
   "metadata": {},
   "source": [
    "- Flatten a 2d numpy array into 1d array"
   ]
  },
  {
   "cell_type": "code",
   "execution_count": 32,
   "id": "0ed2d394",
   "metadata": {},
   "outputs": [
    {
     "name": "stdout",
     "output_type": "stream",
     "text": [
      "Original:\n",
      "[[1 2 3 4]\n",
      " [5 6 7 8]\n",
      " [4 3 2 1]]\n",
      "Flat: [1 2 3 4 5 6 7 8 4 3 2 1]\n"
     ]
    }
   ],
   "source": [
    "# The code in the above cell will also work for this task\n",
    "arr = np.array([[1,2,3,4],\n",
    "                [5,6,7,8],\n",
    "                [4,3,2,1]])\n",
    "\n",
    "flat_shape = arr.shape[0] * arr.shape[1] \n",
    "flat = arr.reshape(flat_shape)\n",
    "\n",
    "print('Original:\\n%s'%arr)\n",
    "print('Flat: %s'%flat)"
   ]
  },
  {
   "cell_type": "markdown",
   "id": "2c1b4319",
   "metadata": {},
   "source": [
    "- Move axes of an array to new positions"
   ]
  },
  {
   "cell_type": "code",
   "execution_count": 37,
   "id": "db5fea20",
   "metadata": {},
   "outputs": [
    {
     "name": "stdout",
     "output_type": "stream",
     "text": [
      "Array1:\n",
      "[[[1]\n",
      "  [2]]\n",
      "\n",
      " [[3]\n",
      "  [4]]\n",
      "\n",
      " [[7]\n",
      "  [1]]]\n",
      "\n",
      "Array2:\n",
      "[[[1 3 7]]\n",
      "\n",
      " [[2 4 1]]]\n",
      "\n",
      "Shape1: (3, 2, 1)\t\tShape2: (2, 1, 3)\n"
     ]
    }
   ],
   "source": [
    "arr1 = np.array([[[1], [2]], [[3], [4]], [[7], [1]]])\n",
    "arr2 = np.moveaxis(arr1, 0, 2)\n",
    "\n",
    "print('Array1:\\n%s\\n'%arr1)\n",
    "print('Array2:\\n%s\\n'%arr2)\n",
    "print('Shape1: %s\\t\\tShape2: %s'%(arr1.shape, arr2.shape))"
   ]
  },
  {
   "cell_type": "markdown",
   "id": "9f41966b",
   "metadata": {},
   "source": [
    "- Interchange two axes of an array"
   ]
  },
  {
   "cell_type": "code",
   "execution_count": 38,
   "id": "efd823d3",
   "metadata": {},
   "outputs": [
    {
     "name": "stdout",
     "output_type": "stream",
     "text": [
      "Array1:\n",
      "[[[ 1  5]\n",
      "  [ 2  3]\n",
      "  [ 9 10]]\n",
      "\n",
      " [[ 3  1]\n",
      "  [ 4  9]\n",
      "  [ 2 11]]\n",
      "\n",
      " [[ 7  2]\n",
      "  [ 1  2]\n",
      "  [ 6  6]]\n",
      "\n",
      " [[ 3  1]\n",
      "  [ 4  9]\n",
      "  [ 2 11]]]\n",
      "\n",
      "Array2:\n",
      "[[[ 1  3  7  3]\n",
      "  [ 2  4  1  4]\n",
      "  [ 9  2  6  2]]\n",
      "\n",
      " [[ 5  1  2  1]\n",
      "  [ 3  9  2  9]\n",
      "  [10 11  6 11]]]\n",
      "\n",
      "Shape1: (4, 3, 2)\t\tShape2: (2, 3, 4)\n"
     ]
    }
   ],
   "source": [
    "arr1 = np.array([[[1, 5], [2, 3], [9, 10]], \n",
    "                 [[3, 1], [4, 9], [2, 11]], \n",
    "                 [[7, 2], [1, 2], [6, 6]],\n",
    "                 [[3, 1], [4, 9], [2, 11]]])\n",
    "\n",
    "arr2 = np.swapaxes(arr1, 0, 2)\n",
    "\n",
    "print('Array1:\\n%s\\n'%arr1)\n",
    "print('Array2:\\n%s\\n'%arr2)\n",
    "print('Shape1: %s\\t\\tShape2: %s'%(arr1.shape, arr2.shape))"
   ]
  },
  {
   "cell_type": "markdown",
   "id": "3d80e657",
   "metadata": {},
   "source": [
    "- NumPy – Fibonacci Series using Binet Formula"
   ]
  },
  {
   "cell_type": "code",
   "execution_count": 41,
   "id": "6a91565b",
   "metadata": {},
   "outputs": [
    {
     "name": "stdout",
     "output_type": "stream",
     "text": [
      "Fibonacci sequence of size 12:\n",
      "[  1.   1.   2.   3.   5.   8.  13.  21.  34.  55.  89. 144.]\n"
     ]
    }
   ],
   "source": [
    "fib_size = 12\n",
    "\n",
    "sqrtFive = np.sqrt(5)\n",
    "alpha = (1 + sqrtFive) / 2\n",
    "beta = (1 - sqrtFive) / 2\n",
    "\n",
    "a = np.arange(1, fib_size + 1)\n",
    "\n",
    "# np.rint rounds numbers to the nearest integer\n",
    "fib = np.rint(((alpha ** a) - (beta ** a)) / (sqrtFive))\n",
    "print('Fibonacci sequence of size %s:\\n%s'%(fib_size, fib))"
   ]
  },
  {
   "cell_type": "markdown",
   "id": "30828256",
   "metadata": {},
   "source": [
    "- Counts the number of non-zero values in the array"
   ]
  },
  {
   "cell_type": "code",
   "execution_count": 48,
   "id": "e8103dda",
   "metadata": {},
   "outputs": [
    {
     "name": "stdout",
     "output_type": "stream",
     "text": [
      "Array:\n",
      "[[ 0 10 11 12]\n",
      " [22  4  0  0]]\n",
      "# of values different to 0: 5\n"
     ]
    }
   ],
   "source": [
    "arr = np.array([[0, 10, 11, 12], [22, 4, 0, 0]])\n",
    "non_zero = np.count_nonzero(arr)\n",
    "\n",
    "print('Array:\\n%s'%arr)\n",
    "print('# of values different to 0: %s'%non_zero)"
   ]
  },
  {
   "cell_type": "markdown",
   "id": "80432216",
   "metadata": {},
   "source": [
    "- Count the number of elements along a given axis"
   ]
  },
  {
   "cell_type": "code",
   "execution_count": 50,
   "id": "0e30cfdc",
   "metadata": {},
   "outputs": [
    {
     "name": "stdout",
     "output_type": "stream",
     "text": [
      "Array:\n",
      "[[1 2 3]\n",
      " [4 6 8]]\n",
      "# of rows along x-axis: 2\n",
      "# of cols along y-axis: 3\n"
     ]
    }
   ],
   "source": [
    "arr = np.array([[1, 2, 3],\n",
    "                [4, 6, 8]])\n",
    "\n",
    "print('Array:\\n%s'%arr)\n",
    "print('# of rows along x-axis: %s'%np.size(arr, axis=0))\n",
    "print('# of cols along y-axis: %s'%np.size(arr, axis=1))"
   ]
  },
  {
   "cell_type": "markdown",
   "id": "b51af2ba",
   "metadata": {},
   "source": [
    "- Trim the leading and/or trailing zeros from a 1-D array"
   ]
  },
  {
   "cell_type": "code",
   "execution_count": 51,
   "id": "1d88a22b",
   "metadata": {},
   "outputs": [
    {
     "name": "stdout",
     "output_type": "stream",
     "text": [
      "Original array: [ 0  0  0  5  7  0  6  9  0 10  0  0]\n",
      "trimmed array: [ 5  7  0  6  9  0 10]\n"
     ]
    }
   ],
   "source": [
    "arr = np.array((0, 0, 0, 5, 7, 0, 6, 9, 0, 10, 0, 0))\n",
    "trimmed = np.trim_zeros(arr)\n",
    "\n",
    "print('Original array: %s'%arr)\n",
    "print('trimmed array: %s'%trimmed)"
   ]
  },
  {
   "cell_type": "markdown",
   "id": "68eb0f18",
   "metadata": {},
   "source": [
    "- Change data type of given numpy array"
   ]
  },
  {
   "cell_type": "code",
   "execution_count": 4,
   "id": "aaff10d4",
   "metadata": {},
   "outputs": [
    {
     "name": "stdout",
     "output_type": "stream",
     "text": [
      "Original Array (float64): [5.4 2.2 1.3 1.5]\n",
      "Original Array (uint64): [5 2 1 1]\n"
     ]
    }
   ],
   "source": [
    "arr = np.array([5.4, 2.2, 1.3, 1.5])\n",
    "arr_int = arr.astype(np.uint)\n",
    "\n",
    "print('Original Array (%s): %s'%(arr.dtype, arr))\n",
    "print('Original Array (%s): %s'%(arr_int.dtype, arr_int))"
   ]
  },
  {
   "cell_type": "markdown",
   "id": "be390b6a",
   "metadata": {},
   "source": [
    "- Reverse a numpy array\n"
   ]
  },
  {
   "cell_type": "code",
   "execution_count": 5,
   "id": "edb1f520",
   "metadata": {},
   "outputs": [
    {
     "name": "stdout",
     "output_type": "stream",
     "text": [
      "Original: [5 4 3 2 1 0]\n",
      "Reversed: [0 1 2 3 4 5]\n"
     ]
    }
   ],
   "source": [
    "arr = np.array([5, 4, 3, 2, 1, 0])\n",
    "rev = arr[::-1]\n",
    "\n",
    "print('Original: %s'%arr)\n",
    "print('Reversed: %s'%rev)"
   ]
  },
  {
   "cell_type": "markdown",
   "id": "f2ed35ee",
   "metadata": {},
   "source": [
    "- Read-only Numpy array"
   ]
  },
  {
   "cell_type": "code",
   "execution_count": 6,
   "id": "4148a012",
   "metadata": {},
   "outputs": [
    {
     "name": "stdout",
     "output_type": "stream",
     "text": [
      "[!] Array [1 2 3 4 5] is read-only\n"
     ]
    }
   ],
   "source": [
    "arr = np.array([1, 2, 3, 4, 5])\n",
    "arr.setflags(write=False)\n",
    "\n",
    "try:\n",
    "    arr[1] = 0\n",
    "except ValueError:\n",
    "    print('[!] Array %s is read-only'%arr)\n"
   ]
  }
 ],
 "metadata": {
  "kernelspec": {
   "display_name": "Python 3 (ipykernel)",
   "language": "python",
   "name": "python3"
  },
  "language_info": {
   "codemirror_mode": {
    "name": "ipython",
    "version": 3
   },
   "file_extension": ".py",
   "mimetype": "text/x-python",
   "name": "python",
   "nbconvert_exporter": "python",
   "pygments_lexer": "ipython3",
   "version": "3.9.11"
  }
 },
 "nbformat": 4,
 "nbformat_minor": 5
}
