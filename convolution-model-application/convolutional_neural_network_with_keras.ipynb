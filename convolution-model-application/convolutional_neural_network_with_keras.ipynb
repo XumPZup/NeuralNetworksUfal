{
 "cells": [
  {
   "cell_type": "code",
   "execution_count": 65,
   "id": "49dad37d",
   "metadata": {},
   "outputs": [],
   "source": [
    "import tensorflow as tf\n",
    "from tensorflow.keras import Sequential\n",
    "from tensorflow.keras.layers import Conv2D, MaxPooling2D, Dense, Flatten, Activation\n",
    "from sklearn.metrics import accuracy_score\n",
    "from cnn_utils import *"
   ]
  },
  {
   "cell_type": "code",
   "execution_count": 60,
   "id": "6266a1fa",
   "metadata": {},
   "outputs": [],
   "source": [
    "X_train_orig, Y_train_orig, X_test_orig, Y_test_orig, classes = load_dataset()\n",
    "\n",
    "Y_train = Y_train_orig.reshape(Y_train_orig.shape[1])\n",
    "Y_test = Y_test_orig.reshape(Y_test_orig.shape[1])\n",
    "X_train = X_train_orig / 255\n",
    "X_test = X_test_orig / 255"
   ]
  },
  {
   "cell_type": "code",
   "execution_count": 67,
   "id": "0ffde4da",
   "metadata": {},
   "outputs": [],
   "source": [
    "model = Sequential()\n",
    "model.add(Conv2D(64, (3, 3), input_shape=X_train_orig.shape[1:]))\n",
    "model.add(Activation('relu'))\n",
    "model.add(MaxPooling2D(pool_size=(2, 2)))\n",
    "\n",
    "model.add(Conv2D(64, (3, 3), input_shape=X_train_orig.shape[1:]))\n",
    "model.add(Activation('relu'))\n",
    "model.add(MaxPooling2D(pool_size=(2, 2)))\n",
    "\n",
    "model.add(Flatten())\n",
    "#model.add(Dense(64))\n",
    "model.add(Dense(6))\n",
    "model.add(Activation('softmax'))"
   ]
  },
  {
   "cell_type": "code",
   "execution_count": 68,
   "id": "8ccdcc42",
   "metadata": {},
   "outputs": [
    {
     "name": "stdout",
     "output_type": "stream",
     "text": [
      "Epoch 1/20\n",
      "14/14 [==============================] - 3s 213ms/step - loss: 1.8225 - accuracy: 0.1771 - val_loss: 1.7550 - val_accuracy: 0.2269\n",
      "Epoch 2/20\n",
      "14/14 [==============================] - 3s 190ms/step - loss: 1.7198 - accuracy: 0.3180 - val_loss: 1.5850 - val_accuracy: 0.4815\n",
      "Epoch 3/20\n",
      "14/14 [==============================] - 3s 187ms/step - loss: 1.4813 - accuracy: 0.5404 - val_loss: 1.4345 - val_accuracy: 0.4491\n",
      "Epoch 4/20\n",
      "14/14 [==============================] - 3s 189ms/step - loss: 1.2032 - accuracy: 0.6009 - val_loss: 1.1240 - val_accuracy: 0.5787\n",
      "Epoch 5/20\n",
      "14/14 [==============================] - 3s 211ms/step - loss: 0.9245 - accuracy: 0.7257 - val_loss: 0.9335 - val_accuracy: 0.6944\n",
      "Epoch 6/20\n",
      "14/14 [==============================] - 3s 212ms/step - loss: 0.8094 - accuracy: 0.7142 - val_loss: 0.8598 - val_accuracy: 0.7037\n",
      "Epoch 7/20\n",
      "14/14 [==============================] - 3s 252ms/step - loss: 0.6803 - accuracy: 0.7788 - val_loss: 0.7582 - val_accuracy: 0.7454\n",
      "Epoch 8/20\n",
      "14/14 [==============================] - 3s 221ms/step - loss: 0.5810 - accuracy: 0.8450 - val_loss: 0.7705 - val_accuracy: 0.7315\n",
      "Epoch 9/20\n",
      "14/14 [==============================] - 3s 213ms/step - loss: 0.5058 - accuracy: 0.8607 - val_loss: 0.7786 - val_accuracy: 0.6898\n",
      "Epoch 10/20\n",
      "14/14 [==============================] - 3s 225ms/step - loss: 0.5218 - accuracy: 0.8412 - val_loss: 0.6914 - val_accuracy: 0.7361\n",
      "Epoch 11/20\n",
      "14/14 [==============================] - 3s 221ms/step - loss: 0.4757 - accuracy: 0.8581 - val_loss: 0.6825 - val_accuracy: 0.7315\n",
      "Epoch 12/20\n",
      "14/14 [==============================] - 3s 212ms/step - loss: 0.3920 - accuracy: 0.8932 - val_loss: 0.6315 - val_accuracy: 0.7824\n",
      "Epoch 13/20\n",
      "14/14 [==============================] - 3s 220ms/step - loss: 0.3425 - accuracy: 0.8988 - val_loss: 0.7129 - val_accuracy: 0.7454\n",
      "Epoch 14/20\n",
      "14/14 [==============================] - 3s 218ms/step - loss: 0.3443 - accuracy: 0.8941 - val_loss: 0.5561 - val_accuracy: 0.7870\n",
      "Epoch 15/20\n",
      "14/14 [==============================] - 3s 250ms/step - loss: 0.3021 - accuracy: 0.9059 - val_loss: 0.7063 - val_accuracy: 0.7361\n",
      "Epoch 16/20\n",
      "14/14 [==============================] - 3s 212ms/step - loss: 0.3260 - accuracy: 0.9011 - val_loss: 0.5827 - val_accuracy: 0.8102\n",
      "Epoch 17/20\n",
      "14/14 [==============================] - 3s 199ms/step - loss: 0.2469 - accuracy: 0.9288 - val_loss: 0.7489 - val_accuracy: 0.7454\n",
      "Epoch 18/20\n",
      "14/14 [==============================] - 3s 217ms/step - loss: 0.2663 - accuracy: 0.9249 - val_loss: 0.6323 - val_accuracy: 0.7731\n",
      "Epoch 19/20\n",
      "14/14 [==============================] - 3s 217ms/step - loss: 0.2298 - accuracy: 0.9300 - val_loss: 0.7256 - val_accuracy: 0.7269\n",
      "Epoch 20/20\n",
      "14/14 [==============================] - 3s 226ms/step - loss: 0.2368 - accuracy: 0.9300 - val_loss: 0.6426 - val_accuracy: 0.7870\n"
     ]
    },
    {
     "data": {
      "text/plain": [
       "<tensorflow.python.keras.callbacks.History at 0x7fe63dbf10a0>"
      ]
     },
     "execution_count": 68,
     "metadata": {},
     "output_type": "execute_result"
    }
   ],
   "source": [
    "model.compile(optimizer=\"Adam\", loss='sparse_categorical_crossentropy', metrics=[\"accuracy\"])\n",
    "\n",
    "model.fit(X_train, Y_train, batch_size=64, validation_split=0.2, epochs=20)"
   ]
  },
  {
   "cell_type": "code",
   "execution_count": 69,
   "id": "3e1d6390",
   "metadata": {
    "scrolled": true
   },
   "outputs": [],
   "source": [
    "predictions = model.predict(X_test)\n",
    "pred_labels = np.argmax(predictions, axis = 1)"
   ]
  },
  {
   "cell_type": "code",
   "execution_count": 70,
   "id": "3ec1e06b",
   "metadata": {},
   "outputs": [
    {
     "name": "stdout",
     "output_type": "stream",
     "text": [
      "0.8333333333333334\n"
     ]
    }
   ],
   "source": [
    "test_accuracy = accuracy_score(Y_test, pred_labels)\n",
    "print(test_accuracy)"
   ]
  }
 ],
 "metadata": {
  "kernelspec": {
   "display_name": "Python 3 (ipykernel)",
   "language": "python",
   "name": "python3"
  },
  "language_info": {
   "codemirror_mode": {
    "name": "ipython",
    "version": 3
   },
   "file_extension": ".py",
   "mimetype": "text/x-python",
   "name": "python",
   "nbconvert_exporter": "python",
   "pygments_lexer": "ipython3",
   "version": "3.9.11"
  }
 },
 "nbformat": 4,
 "nbformat_minor": 5
}
